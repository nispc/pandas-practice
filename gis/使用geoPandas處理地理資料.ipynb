{
 "cells": [
  {
   "cell_type": "markdown",
   "metadata": {},
   "source": [
    "# 使用geoPandas處理地理資料"
   ]
  },
  {
   "cell_type": "markdown",
   "metadata": {},
   "source": [
    "# 載入台北市區界圖\n",
    "* 使用geopandas.read_file讀取shapefile\n",
    "* 利用pandas選出台北市各區區界"
   ]
  },
  {
   "cell_type": "code",
   "execution_count": 1,
   "metadata": {
    "collapsed": true
   },
   "outputs": [],
   "source": [
    "import geopandas"
   ]
  },
  {
   "cell_type": "code",
   "execution_count": 2,
   "metadata": {
    "collapsed": false
   },
   "outputs": [
    {
     "name": "stdout",
     "output_type": "stream",
     "text": [
      "Populating the interactive namespace from numpy and matplotlib\n"
     ]
    }
   ],
   "source": [
    "%pylab inline"
   ]
  },
  {
   "cell_type": "code",
   "execution_count": 3,
   "metadata": {
    "collapsed": false
   },
   "outputs": [],
   "source": [
    "pylab.rcParams['figure.figsize'] = (12.0, 8.0)"
   ]
  },
  {
   "cell_type": "code",
   "execution_count": 4,
   "metadata": {
    "collapsed": false
   },
   "outputs": [],
   "source": [
    "台灣地理分區 = geopandas.read_file('./鄉鎮市界/Town_MOI_1041215.shp')"
   ]
  },
  {
   "cell_type": "code",
   "execution_count": 5,
   "metadata": {
    "collapsed": false
   },
   "outputs": [
    {
     "data": {
      "text/html": [
       "<div>\n",
       "<table border=\"1\" class=\"dataframe\">\n",
       "  <thead>\n",
       "    <tr style=\"text-align: right;\">\n",
       "      <th></th>\n",
       "      <th>Add_Accept</th>\n",
       "      <th>Add_Date</th>\n",
       "      <th>C_Name</th>\n",
       "      <th>County_ID</th>\n",
       "      <th>OBJECTID</th>\n",
       "      <th>Remark</th>\n",
       "      <th>T_Desc</th>\n",
       "      <th>T_Name</th>\n",
       "      <th>T_UID</th>\n",
       "      <th>Town_ID</th>\n",
       "      <th>geometry</th>\n",
       "    </tr>\n",
       "  </thead>\n",
       "  <tbody>\n",
       "    <tr>\n",
       "      <th>0</th>\n",
       "      <td>None</td>\n",
       "      <td>None</td>\n",
       "      <td>臺東縣</td>\n",
       "      <td>10014</td>\n",
       "      <td>909</td>\n",
       "      <td>None</td>\n",
       "      <td>None</td>\n",
       "      <td>成功鎮</td>\n",
       "      <td>178</td>\n",
       "      <td>1001402</td>\n",
       "      <td>POLYGON ((121.409815737 23.21369278500009, 121...</td>\n",
       "    </tr>\n",
       "    <tr>\n",
       "      <th>1</th>\n",
       "      <td>None</td>\n",
       "      <td>None</td>\n",
       "      <td>屏東縣</td>\n",
       "      <td>10013</td>\n",
       "      <td>910</td>\n",
       "      <td>None</td>\n",
       "      <td>None</td>\n",
       "      <td>佳冬鄉</td>\n",
       "      <td>164</td>\n",
       "      <td>1001321</td>\n",
       "      <td>POLYGON ((120.5484580210001 22.46067220300006,...</td>\n",
       "    </tr>\n",
       "    <tr>\n",
       "      <th>2</th>\n",
       "      <td>None</td>\n",
       "      <td>None</td>\n",
       "      <td>雲林縣</td>\n",
       "      <td>10009</td>\n",
       "      <td>920</td>\n",
       "      <td>None</td>\n",
       "      <td>None</td>\n",
       "      <td>麥寮鄉</td>\n",
       "      <td>118</td>\n",
       "      <td>1000913</td>\n",
       "      <td>POLYGON ((120.3019750420001 23.81624614400005,...</td>\n",
       "    </tr>\n",
       "    <tr>\n",
       "      <th>3</th>\n",
       "      <td>None</td>\n",
       "      <td>None</td>\n",
       "      <td>臺東縣</td>\n",
       "      <td>10014</td>\n",
       "      <td>926</td>\n",
       "      <td>None</td>\n",
       "      <td>None</td>\n",
       "      <td>綠島鄉</td>\n",
       "      <td>376</td>\n",
       "      <td>1001411</td>\n",
       "      <td>(POLYGON ((121.491547243 22.67745703900005, 12...</td>\n",
       "    </tr>\n",
       "    <tr>\n",
       "      <th>4</th>\n",
       "      <td>None</td>\n",
       "      <td>None</td>\n",
       "      <td>臺東縣</td>\n",
       "      <td>10014</td>\n",
       "      <td>927</td>\n",
       "      <td>None</td>\n",
       "      <td>None</td>\n",
       "      <td>蘭嶼鄉</td>\n",
       "      <td>369</td>\n",
       "      <td>1001416</td>\n",
       "      <td>(POLYGON ((121.6117956420001 21.94289657000007...</td>\n",
       "    </tr>\n",
       "  </tbody>\n",
       "</table>\n",
       "</div>"
      ],
      "text/plain": [
       "  Add_Accept Add_Date C_Name County_ID  OBJECTID Remark T_Desc T_Name  T_UID  \\\n",
       "0       None     None    臺東縣     10014       909   None   None    成功鎮    178   \n",
       "1       None     None    屏東縣     10013       910   None   None    佳冬鄉    164   \n",
       "2       None     None    雲林縣     10009       920   None   None    麥寮鄉    118   \n",
       "3       None     None    臺東縣     10014       926   None   None    綠島鄉    376   \n",
       "4       None     None    臺東縣     10014       927   None   None    蘭嶼鄉    369   \n",
       "\n",
       "   Town_ID                                           geometry  \n",
       "0  1001402  POLYGON ((121.409815737 23.21369278500009, 121...  \n",
       "1  1001321  POLYGON ((120.5484580210001 22.46067220300006,...  \n",
       "2  1000913  POLYGON ((120.3019750420001 23.81624614400005,...  \n",
       "3  1001411  (POLYGON ((121.491547243 22.67745703900005, 12...  \n",
       "4  1001416  (POLYGON ((121.6117956420001 21.94289657000007...  "
      ]
     },
     "execution_count": 5,
     "metadata": {},
     "output_type": "execute_result"
    }
   ],
   "source": [
    "台灣地理分區.head()"
   ]
  },
  {
   "cell_type": "code",
   "execution_count": 6,
   "metadata": {
    "collapsed": false
   },
   "outputs": [],
   "source": [
    "臺北市區界圖 = 台灣地理分區[台灣地理分區['C_Name'] == '臺北市']"
   ]
  },
  {
   "cell_type": "code",
   "execution_count": 7,
   "metadata": {
    "collapsed": false
   },
   "outputs": [
    {
     "name": "stderr",
     "output_type": "stream",
     "text": [
      "/opt/conda/lib/python3.5/site-packages/ipykernel/__main__.py:1: SettingWithCopyWarning: \n",
      "A value is trying to be set on a copy of a slice from a DataFrame.\n",
      "Try using .loc[row_indexer,col_indexer] = value instead\n",
      "\n",
      "See the caveats in the documentation: http://pandas.pydata.org/pandas-docs/stable/indexing.html#indexing-view-versus-copy\n",
      "  if __name__ == '__main__':\n"
     ]
    }
   ],
   "source": [
    "臺北市區界圖['T_Name'] = 臺北市區界圖['T_Name'].apply(lambda t: t[:2])"
   ]
  },
  {
   "cell_type": "code",
   "execution_count": 8,
   "metadata": {
    "collapsed": false
   },
   "outputs": [],
   "source": [
    "臺北市區界圖 = 臺北市區界圖.set_index('T_Name')"
   ]
  },
  {
   "cell_type": "code",
   "execution_count": 9,
   "metadata": {
    "collapsed": false
   },
   "outputs": [
    {
     "data": {
      "text/plain": [
       "<matplotlib.axes._subplots.AxesSubplot at 0x7fa8bd7c2ef0>"
      ]
     },
     "execution_count": 9,
     "metadata": {},
     "output_type": "execute_result"
    },
    {
     "data": {
      "image/png": "[encoded data removed]",
      "text/plain": [
       "<matplotlib.figure.Figure at 0x7fa8bd7e1320>"
      ]
     },
     "metadata": {},
     "output_type": "display_data"
    }
   ],
   "source": [
    "臺北市區界圖.plot()"
   ]
  },
  {
   "cell_type": "markdown",
   "metadata": {},
   "source": [
    "# 計算各區重心"
   ]
  },
  {
   "cell_type": "code",
   "execution_count": 10,
   "metadata": {
    "collapsed": false
   },
   "outputs": [],
   "source": [
    "臺北市區界圖['重心'] = 臺北市區界圖.centroid"
   ]
  },
  {
   "cell_type": "code",
   "execution_count": 11,
   "metadata": {
    "collapsed": false
   },
   "outputs": [],
   "source": [
    "臺北市區界圖['x'] = 臺北市區界圖['重心'].apply(lambda t: t.x)\n",
    "臺北市區界圖['y'] = 臺北市區界圖['重心'].apply(lambda t: t.y)"
   ]
  },
  {
   "cell_type": "code",
   "execution_count": 12,
   "metadata": {
    "collapsed": false
   },
   "outputs": [
    {
     "data": {
      "text/html": [
       "<div>\n",
       "<table border=\"1\" class=\"dataframe\">\n",
       "  <thead>\n",
       "    <tr style=\"text-align: right;\">\n",
       "      <th></th>\n",
       "      <th>x</th>\n",
       "      <th>y</th>\n",
       "    </tr>\n",
       "    <tr>\n",
       "      <th>T_Name</th>\n",
       "      <th></th>\n",
       "      <th></th>\n",
       "    </tr>\n",
       "  </thead>\n",
       "  <tbody>\n",
       "    <tr>\n",
       "      <th>松山</th>\n",
       "      <td>121.557802</td>\n",
       "      <td>25.059771</td>\n",
       "    </tr>\n",
       "    <tr>\n",
       "      <th>信義</th>\n",
       "      <td>121.571648</td>\n",
       "      <td>25.030714</td>\n",
       "    </tr>\n",
       "    <tr>\n",
       "      <th>大安</th>\n",
       "      <td>121.543424</td>\n",
       "      <td>25.026865</td>\n",
       "    </tr>\n",
       "    <tr>\n",
       "      <th>中山</th>\n",
       "      <td>121.538378</td>\n",
       "      <td>25.069857</td>\n",
       "    </tr>\n",
       "    <tr>\n",
       "      <th>中正</th>\n",
       "      <td>121.519857</td>\n",
       "      <td>25.032518</td>\n",
       "    </tr>\n",
       "    <tr>\n",
       "      <th>大同</th>\n",
       "      <td>121.513228</td>\n",
       "      <td>25.063856</td>\n",
       "    </tr>\n",
       "    <tr>\n",
       "      <th>萬華</th>\n",
       "      <td>121.497332</td>\n",
       "      <td>25.029344</td>\n",
       "    </tr>\n",
       "    <tr>\n",
       "      <th>文山</th>\n",
       "      <td>121.573978</td>\n",
       "      <td>24.988655</td>\n",
       "    </tr>\n",
       "    <tr>\n",
       "      <th>南港</th>\n",
       "      <td>121.609761</td>\n",
       "      <td>25.036063</td>\n",
       "    </tr>\n",
       "    <tr>\n",
       "      <th>內湖</th>\n",
       "      <td>121.592397</td>\n",
       "      <td>25.083791</td>\n",
       "    </tr>\n",
       "    <tr>\n",
       "      <th>士林</th>\n",
       "      <td>121.550842</td>\n",
       "      <td>25.125589</td>\n",
       "    </tr>\n",
       "    <tr>\n",
       "      <th>北投</th>\n",
       "      <td>121.517803</td>\n",
       "      <td>25.148173</td>\n",
       "    </tr>\n",
       "  </tbody>\n",
       "</table>\n",
       "</div>"
      ],
      "text/plain": [
       "                 x          y\n",
       "T_Name                       \n",
       "松山      121.557802  25.059771\n",
       "信義      121.571648  25.030714\n",
       "大安      121.543424  25.026865\n",
       "中山      121.538378  25.069857\n",
       "中正      121.519857  25.032518\n",
       "大同      121.513228  25.063856\n",
       "萬華      121.497332  25.029344\n",
       "文山      121.573978  24.988655\n",
       "南港      121.609761  25.036063\n",
       "內湖      121.592397  25.083791\n",
       "士林      121.550842  25.125589\n",
       "北投      121.517803  25.148173"
      ]
     },
     "execution_count": 12,
     "metadata": {},
     "output_type": "execute_result"
    }
   ],
   "source": [
    "臺北市區界圖[['x', 'y']]"
   ]
  },
  {
   "cell_type": "code",
   "execution_count": 13,
   "metadata": {
    "collapsed": false
   },
   "outputs": [
    {
     "data": {
      "text/html": [
       "<div style=\"width:100%;\"><div style=\"position:relative;width:100%;height:0;padding-bottom:60%;\"><iframe src=\"data:text/html;base64,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\" style=\"position:absolute;width:100%;height:100%;left:0;top:0;\"></iframe></div></div>"
      ],
      "text/plain": [
       "<folium.folium.Map at 0x7fa8b7078080>"
      ]
     },
     "execution_count": 13,
     "metadata": {},
     "output_type": "execute_result"
    }
   ],
   "source": [
    "import folium\n",
    "\n",
    "x = 臺北市區界圖['x'].mean()\n",
    "y = 臺北市區界圖['y'].mean()\n",
    "\n",
    "地圖 = folium.Map(location=[y, x], zoom_start=11)\n",
    "\n",
    "for x, y, sub in zip(臺北市區界圖['x'], 臺北市區界圖['y'], 臺北市區界圖.index):\n",
    "    folium.Marker([y, x], popup=sub).add_to(地圖)\n",
    "\n",
    "地圖    "
   ]
  },
  {
   "cell_type": "markdown",
   "metadata": {},
   "source": [
    "# 載入各區各年度人口數"
   ]
  },
  {
   "cell_type": "code",
   "execution_count": 14,
   "metadata": {
    "collapsed": false
   },
   "outputs": [],
   "source": [
    "from pyexcel_ods3 import get_data\n",
    "import pandas as pd\n",
    "from collections import OrderedDict\n",
    "import os"
   ]
  },
  {
   "cell_type": "code",
   "execution_count": 15,
   "metadata": {
    "collapsed": false
   },
   "outputs": [],
   "source": [
    "台北市人口 = OrderedDict()\n",
    "for file in os.listdir('./台北市人口/'):\n",
    "    if file.endswith('.ods'):\n",
    "        data = get_data('./台北市人口/{}'.format(file))\n",
    "        台北市人口.update(data)"
   ]
  },
  {
   "cell_type": "markdown",
   "metadata": {},
   "source": [
    "## 排序年份"
   ]
  },
  {
   "cell_type": "code",
   "execution_count": 16,
   "metadata": {
    "collapsed": false
   },
   "outputs": [],
   "source": [
    "年份 = list(台北市人口.keys())\n",
    "年份.sort()\n",
    "年份 = 年份[5:] + 年份[:4]"
   ]
  },
  {
   "cell_type": "code",
   "execution_count": 17,
   "metadata": {
    "collapsed": false
   },
   "outputs": [],
   "source": [
    "columns = ['區名', '戶數', '人數', '男', '女']\n",
    "各區人數 = []\n",
    "\n",
    "for year in 年份:\n",
    "    人口統計 = pd.DataFrame(台北市人口[year][4:], columns=columns)\n",
    "    人口統計 = 人口統計.set_index('區名')\n",
    "    各區人數.append(人口統計['人數'])"
   ]
  },
  {
   "cell_type": "markdown",
   "metadata": {},
   "source": [
    "## 取民國97以後的人口資料"
   ]
  },
  {
   "cell_type": "code",
   "execution_count": 18,
   "metadata": {
    "collapsed": false
   },
   "outputs": [],
   "source": [
    "現今台北市各區名稱 = 各區人數[-1].index"
   ]
  },
  {
   "cell_type": "code",
   "execution_count": 19,
   "metadata": {
    "collapsed": false
   },
   "outputs": [],
   "source": [
    "台北市各區人口 = pd.DataFrame(各區人數, index=年份).ix['79年':][現今台北市各區名稱] "
   ]
  },
  {
   "cell_type": "code",
   "execution_count": 20,
   "metadata": {
    "collapsed": false
   },
   "outputs": [],
   "source": [
    "台北市各區人口總和 = 台北市各區人口.sum(axis=1)"
   ]
  },
  {
   "cell_type": "code",
   "execution_count": 21,
   "metadata": {
    "collapsed": false
   },
   "outputs": [],
   "source": [
    "for 區域 in 現今台北市各區名稱:\n",
    "    台北市各區人口[區域] = 台北市各區人口[區域] / 台北市各區人口總和"
   ]
  },
  {
   "cell_type": "code",
   "execution_count": 22,
   "metadata": {
    "collapsed": false
   },
   "outputs": [],
   "source": [
    "台北市各區人口 = 台北市各區人口.T"
   ]
  },
  {
   "cell_type": "code",
   "execution_count": 23,
   "metadata": {
    "collapsed": false
   },
   "outputs": [
    {
     "data": {
      "text/html": [
       "<div>\n",
       "<table border=\"1\" class=\"dataframe\">\n",
       "  <thead>\n",
       "    <tr style=\"text-align: right;\">\n",
       "      <th></th>\n",
       "      <th>79年</th>\n",
       "      <th>80年</th>\n",
       "      <th>81年</th>\n",
       "      <th>82年</th>\n",
       "      <th>83年</th>\n",
       "      <th>84年</th>\n",
       "      <th>85年</th>\n",
       "      <th>86年</th>\n",
       "      <th>87年</th>\n",
       "      <th>88年</th>\n",
       "      <th>...</th>\n",
       "      <th>94年</th>\n",
       "      <th>95年</th>\n",
       "      <th>96年</th>\n",
       "      <th>97年</th>\n",
       "      <th>98年</th>\n",
       "      <th>99年</th>\n",
       "      <th>100年</th>\n",
       "      <th>101年</th>\n",
       "      <th>102年</th>\n",
       "      <th>103年</th>\n",
       "    </tr>\n",
       "  </thead>\n",
       "  <tbody>\n",
       "    <tr>\n",
       "      <th>松山</th>\n",
       "      <td>0.080206</td>\n",
       "      <td>0.079968</td>\n",
       "      <td>0.079241</td>\n",
       "      <td>0.080313</td>\n",
       "      <td>0.080456</td>\n",
       "      <td>0.080165</td>\n",
       "      <td>0.080577</td>\n",
       "      <td>0.079208</td>\n",
       "      <td>0.078865</td>\n",
       "      <td>0.078603</td>\n",
       "      <td>...</td>\n",
       "      <td>0.079538</td>\n",
       "      <td>0.079560</td>\n",
       "      <td>0.080245</td>\n",
       "      <td>0.080100</td>\n",
       "      <td>0.079770</td>\n",
       "      <td>0.079592</td>\n",
       "      <td>0.079197</td>\n",
       "      <td>0.078895</td>\n",
       "      <td>0.078296</td>\n",
       "      <td>0.077886</td>\n",
       "    </tr>\n",
       "    <tr>\n",
       "      <th>信義</th>\n",
       "      <td>0.090171</td>\n",
       "      <td>0.090305</td>\n",
       "      <td>0.091884</td>\n",
       "      <td>0.092436</td>\n",
       "      <td>0.093054</td>\n",
       "      <td>0.092591</td>\n",
       "      <td>0.092199</td>\n",
       "      <td>0.092317</td>\n",
       "      <td>0.091858</td>\n",
       "      <td>0.091590</td>\n",
       "      <td>...</td>\n",
       "      <td>0.088206</td>\n",
       "      <td>0.087939</td>\n",
       "      <td>0.087046</td>\n",
       "      <td>0.086838</td>\n",
       "      <td>0.086432</td>\n",
       "      <td>0.085953</td>\n",
       "      <td>0.085456</td>\n",
       "      <td>0.085191</td>\n",
       "      <td>0.085053</td>\n",
       "      <td>0.084985</td>\n",
       "    </tr>\n",
       "    <tr>\n",
       "      <th>大安</th>\n",
       "      <td>0.130422</td>\n",
       "      <td>0.129547</td>\n",
       "      <td>0.126764</td>\n",
       "      <td>0.126635</td>\n",
       "      <td>0.127115</td>\n",
       "      <td>0.125155</td>\n",
       "      <td>0.121749</td>\n",
       "      <td>0.120922</td>\n",
       "      <td>0.120837</td>\n",
       "      <td>0.120058</td>\n",
       "      <td>...</td>\n",
       "      <td>0.119312</td>\n",
       "      <td>0.119355</td>\n",
       "      <td>0.119776</td>\n",
       "      <td>0.119656</td>\n",
       "      <td>0.119509</td>\n",
       "      <td>0.118974</td>\n",
       "      <td>0.118389</td>\n",
       "      <td>0.117246</td>\n",
       "      <td>0.116643</td>\n",
       "      <td>0.116083</td>\n",
       "    </tr>\n",
       "    <tr>\n",
       "      <th>中山</th>\n",
       "      <td>0.087246</td>\n",
       "      <td>0.086815</td>\n",
       "      <td>0.086304</td>\n",
       "      <td>0.085471</td>\n",
       "      <td>0.085381</td>\n",
       "      <td>0.084161</td>\n",
       "      <td>0.082898</td>\n",
       "      <td>0.081677</td>\n",
       "      <td>0.081505</td>\n",
       "      <td>0.081267</td>\n",
       "      <td>...</td>\n",
       "      <td>0.082903</td>\n",
       "      <td>0.083420</td>\n",
       "      <td>0.083096</td>\n",
       "      <td>0.083434</td>\n",
       "      <td>0.083701</td>\n",
       "      <td>0.084057</td>\n",
       "      <td>0.084536</td>\n",
       "      <td>0.084789</td>\n",
       "      <td>0.085149</td>\n",
       "      <td>0.085296</td>\n",
       "    </tr>\n",
       "    <tr>\n",
       "      <th>中正</th>\n",
       "      <td>0.068120</td>\n",
       "      <td>0.067575</td>\n",
       "      <td>0.067221</td>\n",
       "      <td>0.066055</td>\n",
       "      <td>0.065839</td>\n",
       "      <td>0.064892</td>\n",
       "      <td>0.064057</td>\n",
       "      <td>0.063481</td>\n",
       "      <td>0.063082</td>\n",
       "      <td>0.062592</td>\n",
       "      <td>...</td>\n",
       "      <td>0.060135</td>\n",
       "      <td>0.060254</td>\n",
       "      <td>0.060658</td>\n",
       "      <td>0.060748</td>\n",
       "      <td>0.060885</td>\n",
       "      <td>0.060920</td>\n",
       "      <td>0.060902</td>\n",
       "      <td>0.060659</td>\n",
       "      <td>0.060725</td>\n",
       "      <td>0.060462</td>\n",
       "    </tr>\n",
       "    <tr>\n",
       "      <th>大同</th>\n",
       "      <td>0.055591</td>\n",
       "      <td>0.055120</td>\n",
       "      <td>0.054711</td>\n",
       "      <td>0.053113</td>\n",
       "      <td>0.052069</td>\n",
       "      <td>0.051312</td>\n",
       "      <td>0.051502</td>\n",
       "      <td>0.051438</td>\n",
       "      <td>0.050972</td>\n",
       "      <td>0.050544</td>\n",
       "      <td>...</td>\n",
       "      <td>0.048468</td>\n",
       "      <td>0.048219</td>\n",
       "      <td>0.047971</td>\n",
       "      <td>0.047524</td>\n",
       "      <td>0.047326</td>\n",
       "      <td>0.047580</td>\n",
       "      <td>0.047771</td>\n",
       "      <td>0.048185</td>\n",
       "      <td>0.048323</td>\n",
       "      <td>0.048467</td>\n",
       "    </tr>\n",
       "    <tr>\n",
       "      <th>萬華</th>\n",
       "      <td>0.085648</td>\n",
       "      <td>0.084916</td>\n",
       "      <td>0.084710</td>\n",
       "      <td>0.083255</td>\n",
       "      <td>0.082015</td>\n",
       "      <td>0.081274</td>\n",
       "      <td>0.081021</td>\n",
       "      <td>0.080224</td>\n",
       "      <td>0.079464</td>\n",
       "      <td>0.078727</td>\n",
       "      <td>...</td>\n",
       "      <td>0.074432</td>\n",
       "      <td>0.074035</td>\n",
       "      <td>0.073203</td>\n",
       "      <td>0.072576</td>\n",
       "      <td>0.072269</td>\n",
       "      <td>0.072209</td>\n",
       "      <td>0.071994</td>\n",
       "      <td>0.072058</td>\n",
       "      <td>0.072019</td>\n",
       "      <td>0.072055</td>\n",
       "    </tr>\n",
       "    <tr>\n",
       "      <th>文山</th>\n",
       "      <td>0.083284</td>\n",
       "      <td>0.083059</td>\n",
       "      <td>0.083935</td>\n",
       "      <td>0.084358</td>\n",
       "      <td>0.084039</td>\n",
       "      <td>0.086486</td>\n",
       "      <td>0.088276</td>\n",
       "      <td>0.090575</td>\n",
       "      <td>0.092403</td>\n",
       "      <td>0.094121</td>\n",
       "      <td>...</td>\n",
       "      <td>0.098974</td>\n",
       "      <td>0.099313</td>\n",
       "      <td>0.099520</td>\n",
       "      <td>0.099781</td>\n",
       "      <td>0.100048</td>\n",
       "      <td>0.100164</td>\n",
       "      <td>0.100507</td>\n",
       "      <td>0.100743</td>\n",
       "      <td>0.101001</td>\n",
       "      <td>0.101365</td>\n",
       "    </tr>\n",
       "    <tr>\n",
       "      <th>南港</th>\n",
       "      <td>0.043069</td>\n",
       "      <td>0.043328</td>\n",
       "      <td>0.043655</td>\n",
       "      <td>0.043410</td>\n",
       "      <td>0.042739</td>\n",
       "      <td>0.042695</td>\n",
       "      <td>0.042886</td>\n",
       "      <td>0.042710</td>\n",
       "      <td>0.042690</td>\n",
       "      <td>0.042808</td>\n",
       "      <td>...</td>\n",
       "      <td>0.043209</td>\n",
       "      <td>0.043027</td>\n",
       "      <td>0.043250</td>\n",
       "      <td>0.043338</td>\n",
       "      <td>0.043395</td>\n",
       "      <td>0.043541</td>\n",
       "      <td>0.043807</td>\n",
       "      <td>0.044325</td>\n",
       "      <td>0.044575</td>\n",
       "      <td>0.044872</td>\n",
       "    </tr>\n",
       "    <tr>\n",
       "      <th>內湖</th>\n",
       "      <td>0.076306</td>\n",
       "      <td>0.079011</td>\n",
       "      <td>0.079942</td>\n",
       "      <td>0.081466</td>\n",
       "      <td>0.082888</td>\n",
       "      <td>0.085859</td>\n",
       "      <td>0.089036</td>\n",
       "      <td>0.091340</td>\n",
       "      <td>0.092670</td>\n",
       "      <td>0.094494</td>\n",
       "      <td>...</td>\n",
       "      <td>0.100076</td>\n",
       "      <td>0.100532</td>\n",
       "      <td>0.100985</td>\n",
       "      <td>0.101722</td>\n",
       "      <td>0.102670</td>\n",
       "      <td>0.103195</td>\n",
       "      <td>0.103982</td>\n",
       "      <td>0.104752</td>\n",
       "      <td>0.105282</td>\n",
       "      <td>0.105749</td>\n",
       "    </tr>\n",
       "    <tr>\n",
       "      <th>士林</th>\n",
       "      <td>0.110484</td>\n",
       "      <td>0.110564</td>\n",
       "      <td>0.111669</td>\n",
       "      <td>0.112473</td>\n",
       "      <td>0.112726</td>\n",
       "      <td>0.113282</td>\n",
       "      <td>0.112999</td>\n",
       "      <td>0.113038</td>\n",
       "      <td>0.112431</td>\n",
       "      <td>0.111766</td>\n",
       "      <td>...</td>\n",
       "      <td>0.109982</td>\n",
       "      <td>0.109493</td>\n",
       "      <td>0.109174</td>\n",
       "      <td>0.109063</td>\n",
       "      <td>0.108864</td>\n",
       "      <td>0.108654</td>\n",
       "      <td>0.108290</td>\n",
       "      <td>0.108069</td>\n",
       "      <td>0.107850</td>\n",
       "      <td>0.107484</td>\n",
       "    </tr>\n",
       "    <tr>\n",
       "      <th>北投</th>\n",
       "      <td>0.089452</td>\n",
       "      <td>0.089792</td>\n",
       "      <td>0.089963</td>\n",
       "      <td>0.091015</td>\n",
       "      <td>0.091680</td>\n",
       "      <td>0.092126</td>\n",
       "      <td>0.092801</td>\n",
       "      <td>0.093069</td>\n",
       "      <td>0.093224</td>\n",
       "      <td>0.093430</td>\n",
       "      <td>...</td>\n",
       "      <td>0.094764</td>\n",
       "      <td>0.094852</td>\n",
       "      <td>0.095074</td>\n",
       "      <td>0.095219</td>\n",
       "      <td>0.095131</td>\n",
       "      <td>0.095161</td>\n",
       "      <td>0.095169</td>\n",
       "      <td>0.095088</td>\n",
       "      <td>0.095084</td>\n",
       "      <td>0.095296</td>\n",
       "    </tr>\n",
       "  </tbody>\n",
       "</table>\n",
       "<p>12 rows × 25 columns</p>\n",
       "</div>"
      ],
      "text/plain": [
       "         79年       80年       81年       82年       83年       84年       85年  \\\n",
       "松山  0.080206  0.079968  0.079241  0.080313  0.080456  0.080165  0.080577   \n",
       "信義  0.090171  0.090305  0.091884  0.092436  0.093054  0.092591  0.092199   \n",
       "大安  0.130422  0.129547  0.126764  0.126635  0.127115  0.125155  0.121749   \n",
       "中山  0.087246  0.086815  0.086304  0.085471  0.085381  0.084161  0.082898   \n",
       "中正  0.068120  0.067575  0.067221  0.066055  0.065839  0.064892  0.064057   \n",
       "大同  0.055591  0.055120  0.054711  0.053113  0.052069  0.051312  0.051502   \n",
       "萬華  0.085648  0.084916  0.084710  0.083255  0.082015  0.081274  0.081021   \n",
       "文山  0.083284  0.083059  0.083935  0.084358  0.084039  0.086486  0.088276   \n",
       "南港  0.043069  0.043328  0.043655  0.043410  0.042739  0.042695  0.042886   \n",
       "內湖  0.076306  0.079011  0.079942  0.081466  0.082888  0.085859  0.089036   \n",
       "士林  0.110484  0.110564  0.111669  0.112473  0.112726  0.113282  0.112999   \n",
       "北投  0.089452  0.089792  0.089963  0.091015  0.091680  0.092126  0.092801   \n",
       "\n",
       "         86年       87年       88年    ...          94年       95年       96年  \\\n",
       "松山  0.079208  0.078865  0.078603    ...     0.079538  0.079560  0.080245   \n",
       "信義  0.092317  0.091858  0.091590    ...     0.088206  0.087939  0.087046   \n",
       "大安  0.120922  0.120837  0.120058    ...     0.119312  0.119355  0.119776   \n",
       "中山  0.081677  0.081505  0.081267    ...     0.082903  0.083420  0.083096   \n",
       "中正  0.063481  0.063082  0.062592    ...     0.060135  0.060254  0.060658   \n",
       "大同  0.051438  0.050972  0.050544    ...     0.048468  0.048219  0.047971   \n",
       "萬華  0.080224  0.079464  0.078727    ...     0.074432  0.074035  0.073203   \n",
       "文山  0.090575  0.092403  0.094121    ...     0.098974  0.099313  0.099520   \n",
       "南港  0.042710  0.042690  0.042808    ...     0.043209  0.043027  0.043250   \n",
       "內湖  0.091340  0.092670  0.094494    ...     0.100076  0.100532  0.100985   \n",
       "士林  0.113038  0.112431  0.111766    ...     0.109982  0.109493  0.109174   \n",
       "北投  0.093069  0.093224  0.093430    ...     0.094764  0.094852  0.095074   \n",
       "\n",
       "         97年       98年       99年      100年      101年      102年      103年  \n",
       "松山  0.080100  0.079770  0.079592  0.079197  0.078895  0.078296  0.077886  \n",
       "信義  0.086838  0.086432  0.085953  0.085456  0.085191  0.085053  0.084985  \n",
       "大安  0.119656  0.119509  0.118974  0.118389  0.117246  0.116643  0.116083  \n",
       "中山  0.083434  0.083701  0.084057  0.084536  0.084789  0.085149  0.085296  \n",
       "中正  0.060748  0.060885  0.060920  0.060902  0.060659  0.060725  0.060462  \n",
       "大同  0.047524  0.047326  0.047580  0.047771  0.048185  0.048323  0.048467  \n",
       "萬華  0.072576  0.072269  0.072209  0.071994  0.072058  0.072019  0.072055  \n",
       "文山  0.099781  0.100048  0.100164  0.100507  0.100743  0.101001  0.101365  \n",
       "南港  0.043338  0.043395  0.043541  0.043807  0.044325  0.044575  0.044872  \n",
       "內湖  0.101722  0.102670  0.103195  0.103982  0.104752  0.105282  0.105749  \n",
       "士林  0.109063  0.108864  0.108654  0.108290  0.108069  0.107850  0.107484  \n",
       "北投  0.095219  0.095131  0.095161  0.095169  0.095088  0.095084  0.095296  \n",
       "\n",
       "[12 rows x 25 columns]"
      ]
     },
     "execution_count": 23,
     "metadata": {},
     "output_type": "execute_result"
    }
   ],
   "source": [
    "台北市各區人口"
   ]
  },
  {
   "cell_type": "markdown",
   "metadata": {},
   "source": [
    "# 以各區人口當權重計算台北市重心"
   ]
  },
  {
   "cell_type": "code",
   "execution_count": 24,
   "metadata": {
    "collapsed": false
   },
   "outputs": [],
   "source": [
    "臺北市各區重心 = 臺北市區界圖[['x', 'y']]"
   ]
  },
  {
   "cell_type": "code",
   "execution_count": 25,
   "metadata": {
    "collapsed": false
   },
   "outputs": [],
   "source": [
    "臺北市各區重心.index.name = '區名'"
   ]
  },
  {
   "cell_type": "code",
   "execution_count": 26,
   "metadata": {
    "collapsed": false
   },
   "outputs": [],
   "source": [
    "各年份重心 = []\n",
    "\n",
    "for year in 台北市各區人口.columns:\n",
    "    各年份重心.append(\n",
    "        (sum(臺北市各區重心['x'] * 台北市各區人口[year]), sum(臺北市各區重心['y'] * 台北市各區人口[year]))\n",
    "    )\n",
    "各年份重心 = pd.Series(各年份重心, index=台北市各區人口.columns)"
   ]
  },
  {
   "cell_type": "code",
   "execution_count": 27,
   "metadata": {
    "collapsed": false
   },
   "outputs": [
    {
     "data": {
      "text/plain": [
       "79年     (121.547116677, 25.0595722231)\n",
       "80年     (121.547314609, 25.0597382068)\n",
       "81年     (121.547479427, 25.0598331587)\n",
       "82年     (121.547707694, 25.0600407543)\n",
       "83年     (121.547821721, 25.0601936147)\n",
       "84年     (121.548099979, 25.0602788398)\n",
       "85年     (121.548330283, 25.0604063986)\n",
       "86年     (121.548537254, 25.0603798363)\n",
       "87年     (121.548689898, 25.0603023922)\n",
       "88年      (121.548877625, 25.060260891)\n",
       "89年     (121.549029434, 25.0602579703)\n",
       "90年     (121.549111294, 25.0602658082)\n",
       "91年     (121.549192227, 25.0602710327)\n",
       "92年     (121.549289977, 25.0603507647)\n",
       "93年     (121.549390918, 25.0603872053)\n",
       "94年     (121.549506739, 25.0603692826)\n",
       "95年     (121.549534633, 25.0603553981)\n",
       "96年     (121.549592538, 25.0603670603)\n",
       "97年     (121.549668465, 25.0603978156)\n",
       "98年     (121.549726942, 25.0604034684)\n",
       "99年     (121.549739972, 25.0604302636)\n",
       "100年    (121.549786139, 25.0604414534)\n",
       "101年    (121.549843056, 25.0604634994)\n",
       "102年    (121.549873749, 25.0604646099)\n",
       "103年    (121.549910892, 25.0604660713)\n",
       "dtype: object"
      ]
     },
     "execution_count": 27,
     "metadata": {},
     "output_type": "execute_result"
    }
   ],
   "source": [
    "各年份重心"
   ]
  },
  {
   "cell_type": "markdown",
   "metadata": {},
   "source": [
    "# 以地圖呈現台北市重心變化"
   ]
  },
  {
   "cell_type": "code",
   "execution_count": 28,
   "metadata": {
    "collapsed": false
   },
   "outputs": [],
   "source": [
    "import folium"
   ]
  },
  {
   "cell_type": "code",
   "execution_count": 29,
   "metadata": {
    "collapsed": true
   },
   "outputs": [],
   "source": [
    "x, y = average([_[0] for _ in 各年份重心]), average([_[1] for _ in 各年份重心])\n",
    "地圖 = folium.Map(location=[y, x], zoom_start=17)"
   ]
  },
  {
   "cell_type": "code",
   "execution_count": 30,
   "metadata": {
    "collapsed": false
   },
   "outputs": [],
   "source": [
    "for pos, sub in zip(各年份重心, 各年份重心.index):\n",
    "    folium.Marker([pos[1], pos[0]], popup=sub).add_to(地圖)"
   ]
  },
  {
   "cell_type": "code",
   "execution_count": 31,
   "metadata": {
    "collapsed": false
   },
   "outputs": [
    {
     "data": {
      "text/html": [
       "<div style=\"width:100%;\"><div style=\"position:relative;width:100%;height:0;padding-bottom:60%;\"><iframe src=\"data:text/html;base64,CiAgICAgICAgPCFET0NUWVBFIGh0bWw+CiAgICAgICAgPGhlYWQ+CiAgICAgICAgICAgIAogICAgICAgIAogICAgICAgICAgICA8bWV0YSBodHRwLWVxdWl2PSJjb250ZW50LXR5cGUiIGNvbnRlbnQ9InRleHQvaHRtbDsgY2hhcnNldD1VVEYtOCIgLz4KICAgICAgICAKICAgICAgICAgICAgCiAgICAgICAgCiAgICAgICAgICAgIDxzY3JpcHQgc3JjPSJodHRwczovL2NkbmpzLmNsb3VkZmxhcmUuY29tL2FqYXgvbGlicy9sZWFmbGV0LzAuNy4zL2xlYWZsZXQuanMiPjwvc2NyaXB0PgogICAgICAgIAogICAgICAgIAogICAgICAgIAogICAgICAgICAgICAKICAgICAgICAKICAgICAgICAgICAgPHNjcmlwdCBzcmM9Imh0dHBzOi8vYWpheC5nb29nbGVhcGlzLmNvbS9hamF4L2xpYnMvanF1ZXJ5LzEuMTEuMS9qcXVlcnkubWluLmpzIj48L3NjcmlwdD4KICAgICAgICAKICAgICAgICAKICAgICAgICAKICAgICAgICAgICAgCiAgICAgICAgCiAgICAgICAgICAgIDxzY3JpcHQgc3JjPSJodHRwczovL21heGNkbi5ib290c3RyYXBjZG4uY29tL2Jvb3RzdHJhcC8zLjIuMC9qcy9ib290c3RyYXAubWluLmpzIj48L3NjcmlwdD4KICAgICAgICAKICAgICAgICAKICAgICAgICAKICAgICAgICAgICAgCiAgICAgICAgCiAgICAgICAgICAgIDxzY3JpcHQgc3JjPSJodHRwczovL3Jhd2dpdGh1Yi5jb20vbHZvb2dkdC9MZWFmbGV0LmF3ZXNvbWUtbWFya2Vycy8yLjAvZGV2ZWxvcC9kaXN0L2xlYWZsZXQuYXdlc29tZS1tYXJrZXJzLmpzIj48L3NjcmlwdD4KICAgICAgICAKICAgICAgICAKICAgICAgICAKICAgICAgICAgICAgCiAgICAgICAgCiAgICAgICAgICAgIDxzY3JpcHQgc3JjPSJodHRwczovL2NkbmpzLmNsb3VkZmxhcmUuY29tL2FqYXgvbGlicy9sZWFmbGV0Lm1hcmtlcmNsdXN0ZXIvMC40LjAvbGVhZmxldC5tYXJrZXJjbHVzdGVyLXNyYy5qcyI+PC9zY3JpcHQ+CiAgICAgICAgCiAgICAgICAgCiAgICAgICAgCiAgICAgICAgICAgIAogICAgICAgIAogICAgICAgICAgICA8c2NyaXB0IHNyYz0iaHR0cHM6Ly9jZG5qcy5jbG91ZGZsYXJlLmNvbS9hamF4L2xpYnMvbGVhZmxldC5tYXJrZXJjbHVzdGVyLzAuNC4wL2xlYWZsZXQubWFya2VyY2x1c3Rlci5qcyI+PC9zY3JpcHQ+CiAgICAgICAgCiAgICAgICAgCiAgICAgICAgCiAgICAgICAgICAgIAogICAgICAgIAogICAgICAgICAgICA8bGluayByZWw9InN0eWxlc2hlZXQiIGhyZWY9Imh0dHBzOi8vY2RuanMuY2xvdWRmbGFyZS5jb20vYWpheC9saWJzL2xlYWZsZXQvMC43LjMvbGVhZmxldC5jc3MiIC8+CiAgICAgICAgCiAgICAgICAgCiAgICAgICAgCiAgICAgICAgICAgIAogICAgICAgIAogICAgICAgICAgICA8bGluayByZWw9InN0eWxlc2hlZXQiIGhyZWY9Imh0dHBzOi8vbWF4Y2RuLmJvb3RzdHJhcGNkbi5jb20vYm9vdHN0cmFwLzMuMi4wL2Nzcy9ib290c3RyYXAubWluLmNzcyIgLz4KICAgICAgICAKICAgICAgICAKICAgICAgICAKICAgICAgICAgICAgCiAgICAgICAgCiAgICAgICAgICAgIDxsaW5rIHJlbD0ic3R5bGVzaGVldCIgaHJlZj0iaHR0cHM6Ly9tYXhjZG4uYm9vdHN0cmFwY2RuLmNvbS9ib290c3RyYXAvMy4yLjAvY3NzL2Jvb3RzdHJhcC10aGVtZS5taW4uY3NzIiAvPgogICAgICAgIAogICAgICAgIAogICAgICAgIAogICAgICAgICAgICAKICAgICAgICAKICAgICAgICAgICAgPGxpbmsgcmVsPSJzdHlsZXNoZWV0IiBocmVmPSJodHRwczovL21heGNkbi5ib290c3RyYXBjZG4uY29tL2ZvbnQtYXdlc29tZS80LjEuMC9jc3MvZm9udC1hd2Vzb21lLm1pbi5jc3MiIC8+CiAgICAgICAgCiAgICAgICAgCiAgICAgICAgCiAgICAgICAgICAgIAogICAgICAgIAogICAgICAgICAgICA8bGluayByZWw9InN0eWxlc2hlZXQiIGhyZWY9Imh0dHBzOi8vcmF3Z2l0LmNvbS9sdm9vZ2R0L0xlYWZsZXQuYXdlc29tZS1tYXJrZXJzLzIuMC9kZXZlbG9wL2Rpc3QvbGVhZmxldC5hd2Vzb21lLW1hcmtlcnMuY3NzIiAvPgogICAgICAgIAogICAgICAgIAogICAgICAgIAogICAgICAgICAgICAKICAgICAgICAKICAgICAgICAgICAgPGxpbmsgcmVsPSJzdHlsZXNoZWV0IiBocmVmPSJodHRwczovL2NkbmpzLmNsb3VkZmxhcmUuY29tL2FqYXgvbGlicy9sZWFmbGV0Lm1hcmtlcmNsdXN0ZXIvMC40LjAvTWFya2VyQ2x1c3Rlci5EZWZhdWx0LmNzcyIgLz4KICAgICAgICAKICAgICAgICAKICAgICAgICAKICAgICAgICAgICAgCiAgICAgICAgCiAgICAgICAgICAgIDxsaW5rIHJlbD0ic3R5bGVzaGVldCIgaHJlZj0iaHR0cHM6Ly9jZG5qcy5jbG91ZGZsYXJlLmNvbS9hamF4L2xpYnMvbGVhZmxldC5tYXJrZXJjbHVzdGVyLzAuNC4wL01hcmtlckNsdXN0ZXIuY3NzIiAvPgogICAgICAgIAogICAgICAgIAogICAgICAgIAogICAgICAgICAgICAKICAgICAgICAKICAgICAgICAgICAgPGxpbmsgcmVsPSJzdHlsZXNoZWV0IiBocmVmPSJodHRwczovL3Jhdy5naXRodWJ1c2VyY29udGVudC5jb20vcHl0aG9uLXZpc3VhbGl6YXRpb24vZm9saXVtL21hc3Rlci9mb2xpdW0vdGVtcGxhdGVzL2xlYWZsZXQuYXdlc29tZS5yb3RhdGUuY3NzIiAvPgogICAgICAgIAogICAgICAgIAogICAgICAgIAogICAgICAgICAgICAKICAgICAgICAgICAgPHN0eWxlPgoKICAgICAgICAgICAgaHRtbCwgYm9keSB7CiAgICAgICAgICAgICAgICB3aWR0aDogMTAwJTsKICAgICAgICAgICAgICAgIGhlaWdodDogMTAwJTsKICAgICAgICAgICAgICAgIG1hcmdpbjogMDsKICAgICAgICAgICAgICAgIHBhZGRpbmc6IDA7CiAgICAgICAgICAgICAgICB9CgogICAgICAgICAgICAjbWFwIHsKICAgICAgICAgICAgICAgIHBvc2l0aW9uOmFic29sdXRlOwogICAgICAgICAgICAgICAgdG9wOjA7CiAgICAgICAgICAgICAgICBib3R0b206MDsKICAgICAgICAgICAgICAgIHJpZ2h0OjA7CiAgICAgICAgICAgICAgICBsZWZ0OjA7CiAgICAgICAgICAgICAgICB9CiAgICAgICAgICAgIDwvc3R5bGU+CiAgICAgICAgICAgIAogICAgICAgIAogICAgICAgICAgICAKICAgICAgICAgICAgPHN0eWxlPiAjbWFwXzRhZmMzMTVlZmRhODQ0ZTY5OTE4YTVkYzM0NGZjY2U1IHsKICAgICAgICAgICAgICAgIHBvc2l0aW9uIDogcmVsYXRpdmU7CiAgICAgICAgICAgICAgICB3aWR0aCA6IDEwMC4wJTsKICAgICAgICAgICAgICAgIGhlaWdodDogMTAwLjAlOwogICAgICAgICAgICAgICAgbGVmdDogMC4wJTsKICAgICAgICAgICAgICAgIHRvcDogMC4wJTsKICAgICAgICAgICAgICAgIH0KICAgICAgICAgICAgPC9zdHlsZT4KICAgICAgICAKICAgICAgICAKICAgICAgICAKICAgICAgICA8L2hlYWQ+CiAgICAgICAgPGJvZHk+CiAgICAgICAgICAgIAogICAgICAgIAogICAgICAgICAgICAKICAgICAgICAgICAgPGRpdiBjbGFzcz0iZm9saXVtLW1hcCIgaWQ9Im1hcF80YWZjMzE1ZWZkYTg0NGU2OTkxOGE1ZGMzNDRmY2NlNSIgPjwvZGl2PgogICAgICAgIAogICAgICAgIAogICAgICAgIAogICAgICAgIDwvYm9keT4KICAgICAgICA8c2NyaXB0PgogICAgICAgICAgICAKICAgICAgICAKICAgICAgICAgICAgCgogICAgICAgICAgICB2YXIgc291dGhXZXN0ID0gTC5sYXRMbmcoLTkwLCAtMTgwKTsKICAgICAgICAgICAgdmFyIG5vcnRoRWFzdCA9IEwubGF0TG5nKDkwLCAxODApOwogICAgICAgICAgICB2YXIgYm91bmRzID0gTC5sYXRMbmdCb3VuZHMoc291dGhXZXN0LCBub3J0aEVhc3QpOwoKICAgICAgICAgICAgdmFyIG1hcF80YWZjMzE1ZWZkYTg0NGU2OTkxOGE1ZGMzNDRmY2NlNSA9IEwubWFwKCdtYXBfNGFmYzMxNWVmZGE4NDRlNjk5MThhNWRjMzQ0ZmNjZTUnLCB7CiAgICAgICAgICAgICAgICAgICAgICAgICAgICAgICAgICAgICAgICAgICBjZW50ZXI6WzI1LjA2MDI2NzkyMDgsMTIxLjU0ODkyNjg4Nl0sCiAgICAgICAgICAgICAgICAgICAgICAgICAgICAgICAgICAgICAgICAgICB6b29tOiAxNywKICAgICAgICAgICAgICAgICAgICAgICAgICAgICAgICAgICAgICAgICAgIG1heEJvdW5kczogYm91bmRzLAogICAgICAgICAgICAgICAgICAgICAgICAgICAgICAgICAgICAgICAgICAgbGF5ZXJzOiBbXSwKICAgICAgICAgICAgICAgICAgICAgICAgICAgICAgICAgICAgICAgICAgIGNyczogTC5DUlMuRVBTRzM4NTcKICAgICAgICAgICAgICAgICAgICAgICAgICAgICAgICAgICAgICAgICB9KTsKICAgICAgICAgICAgCiAgICAgICAgCiAgICAgICAgCiAgICAgICAgICAgIAogICAgICAgICAgICB2YXIgdGlsZV9sYXllcl9mODAwMTEwNmI3ZDU0ZmMzOWNjYjVlYTExMzJhZTExMCA9IEwudGlsZUxheWVyKAogICAgICAgICAgICAgICAgJ2h0dHBzOi8ve3N9LnRpbGUub3BlbnN0cmVldG1hcC5vcmcve3p9L3t4fS97eX0ucG5nJywKICAgICAgICAgICAgICAgIHsKICAgICAgICAgICAgICAgICAgICBtYXhab29tOiAxOCwKICAgICAgICAgICAgICAgICAgICBtaW5ab29tOiAxLAogICAgICAgICAgICAgICAgICAgIGF0dHJpYnV0aW9uOiAnRGF0YSBieSA8YSBocmVmPSJodHRwOi8vb3BlbnN0cmVldG1hcC5vcmciPk9wZW5TdHJlZXRNYXA8L2E+LCB1bmRlciA8YSBocmVmPSJodHRwOi8vd3d3Lm9wZW5zdHJlZXRtYXAub3JnL2NvcHlyaWdodCI+T0RiTDwvYT4uJywKICAgICAgICAgICAgICAgICAgICBkZXRlY3RSZXRpbmE6IGZhbHNlCiAgICAgICAgICAgICAgICAgICAgfQogICAgICAgICAgICAgICAgKS5hZGRUbyhtYXBfNGFmYzMxNWVmZGE4NDRlNjk5MThhNWRjMzQ0ZmNjZTUpOwoKICAgICAgICAKICAgICAgICAKICAgICAgICAgICAgCgogICAgICAgICAgICB2YXIgbWFya2VyX2I3ZWMyNWViZjA5YzRiOGY4ZTcyNmE2NWRkMDJlODJhID0gTC5tYXJrZXIoCiAgICAgICAgICAgICAgICBbMjUuMDU5NTcyMjIzMSwxMjEuNTQ3MTE2Njc3XSwKICAgICAgICAgICAgICAgIHsKICAgICAgICAgICAgICAgICAgICBpY29uOiBuZXcgTC5JY29uLkRlZmF1bHQoKQogICAgICAgICAgICAgICAgICAgIH0KICAgICAgICAgICAgICAgICkKICAgICAgICAgICAgICAgIC5hZGRUbyhtYXBfNGFmYzMxNWVmZGE4NDRlNjk5MThhNWRjMzQ0ZmNjZTUpOwogICAgICAgICAgICAKICAgICAgICAKICAgICAgICAgICAgCiAgICAgICAgICAgIHZhciBwb3B1cF9jYTNlZGNkOWVmYTE0ZDVjOTQzMzUyZjlmYzBlYjJhOCA9IEwucG9wdXAoe21heFdpZHRoOiAnMzAwJ30pOwoKICAgICAgICAgICAgCiAgICAgICAgICAgICAgICB2YXIgaHRtbF8wZmU3ODU5NzU5ODM0NzI5YWI2M2YzNThkNzQwZWJkZiA9ICQoJyAgICAgICAgIDxkaXYgaWQ9Imh0bWxfMGZlNzg1OTc1OTgzNDcyOWFiNjNmMzU4ZDc0MGViZGYiICAgICAgICAgICAgICAgICBzdHlsZT0id2lkdGg6IDEwMC4wJTsgaGVpZ2h0OiAxMDAuMCU7Ij4gICAgICAgICAgICAgICAgIDc55bm0PC9kaXY+ICAgICAgICAgICAgICAgICAnKVswXTsKICAgICAgICAgICAgICAgIHBvcHVwX2NhM2VkY2Q5ZWZhMTRkNWM5NDMzNTJmOWZjMGViMmE4LnNldENvbnRlbnQoaHRtbF8wZmU3ODU5NzU5ODM0NzI5YWI2M2YzNThkNzQwZWJkZik7CiAgICAgICAgICAgIAoKICAgICAgICAgICAgbWFya2VyX2I3ZWMyNWViZjA5YzRiOGY4ZTcyNmE2NWRkMDJlODJhLmJpbmRQb3B1cChwb3B1cF9jYTNlZGNkOWVmYTE0ZDVjOTQzMzUyZjlmYzBlYjJhOCk7CgogICAgICAgICAgICAKICAgICAgICAKICAgICAgICAKICAgICAgICAgICAgCgogICAgICAgICAgICB2YXIgbWFya2VyX2RhMTU3OTcwYTM1NTRiMGI4YzhhYzBkNzI4ZDZhOWI4ID0gTC5tYXJrZXIoCiAgICAgICAgICAgICAgICBbMjUuMDU5NzM4MjA2OCwxMjEuNTQ3MzE0NjA5XSwKICAgICAgICAgICAgICAgIHsKICAgICAgICAgICAgICAgICAgICBpY29uOiBuZXcgTC5JY29uLkRlZmF1bHQoKQogICAgICAgICAgICAgICAgICAgIH0KICAgICAgICAgICAgICAgICkKICAgICAgICAgICAgICAgIC5hZGRUbyhtYXBfNGFmYzMxNWVmZGE4NDRlNjk5MThhNWRjMzQ0ZmNjZTUpOwogICAgICAgICAgICAKICAgICAgICAKICAgICAgICAgICAgCiAgICAgICAgICAgIHZhciBwb3B1cF9kMWFkZWRmYzkzNjk0ZDU4ODQ3ZWNlZDdmMWIxYmFiOCA9IEwucG9wdXAoe21heFdpZHRoOiAnMzAwJ30pOwoKICAgICAgICAgICAgCiAgICAgICAgICAgICAgICB2YXIgaHRtbF80ODIzNzFiNTExOWE0ZDg1YjQxMWYzMmY5NTQ3YTlhOCA9ICQoJyAgICAgICAgIDxkaXYgaWQ9Imh0bWxfNDgyMzcxYjUxMTlhNGQ4NWI0MTFmMzJmOTU0N2E5YTgiICAgICAgICAgICAgICAgICBzdHlsZT0id2lkdGg6IDEwMC4wJTsgaGVpZ2h0OiAxMDAuMCU7Ij4gICAgICAgICAgICAgICAgIDgw5bm0PC9kaXY+ICAgICAgICAgICAgICAgICAnKVswXTsKICAgICAgICAgICAgICAgIHBvcHVwX2QxYWRlZGZjOTM2OTRkNTg4NDdlY2VkN2YxYjFiYWI4LnNldENvbnRlbnQoaHRtbF80ODIzNzFiNTExOWE0ZDg1YjQxMWYzMmY5NTQ3YTlhOCk7CiAgICAgICAgICAgIAoKICAgICAgICAgICAgbWFya2VyX2RhMTU3OTcwYTM1NTRiMGI4YzhhYzBkNzI4ZDZhOWI4LmJpbmRQb3B1cChwb3B1cF9kMWFkZWRmYzkzNjk0ZDU4ODQ3ZWNlZDdmMWIxYmFiOCk7CgogICAgICAgICAgICAKICAgICAgICAKICAgICAgICAKICAgICAgICAgICAgCgogICAgICAgICAgICB2YXIgbWFya2VyXzViNzk1NDdjNDlhZTRiNGU4ZGQwOWY1Y2FhZGNhYWUxID0gTC5tYXJrZXIoCiAgICAgICAgICAgICAgICBbMjUuMDU5ODMzMTU4NywxMjEuNTQ3NDc5NDI3XSwKICAgICAgICAgICAgICAgIHsKICAgICAgICAgICAgICAgICAgICBpY29uOiBuZXcgTC5JY29uLkRlZmF1bHQoKQogICAgICAgICAgICAgICAgICAgIH0KICAgICAgICAgICAgICAgICkKICAgICAgICAgICAgICAgIC5hZGRUbyhtYXBfNGFmYzMxNWVmZGE4NDRlNjk5MThhNWRjMzQ0ZmNjZTUpOwogICAgICAgICAgICAKICAgICAgICAKICAgICAgICAgICAgCiAgICAgICAgICAgIHZhciBwb3B1cF85NzEwZjQ3YTY2YzI0NGJhOTEwODYzNDJlMjE1MTYzOCA9IEwucG9wdXAoe21heFdpZHRoOiAnMzAwJ30pOwoKICAgICAgICAgICAgCiAgICAgICAgICAgICAgICB2YXIgaHRtbF8yODJlYjJmN2QzMGM0ODY3YTRiNDI0MGZiNmU4NDhkOCA9ICQoJyAgICAgICAgIDxkaXYgaWQ9Imh0bWxfMjgyZWIyZjdkMzBjNDg2N2E0YjQyNDBmYjZlODQ4ZDgiICAgICAgICAgICAgICAgICBzdHlsZT0id2lkdGg6IDEwMC4wJTsgaGVpZ2h0OiAxMDAuMCU7Ij4gICAgICAgICAgICAgICAgIDgx5bm0PC9kaXY+ICAgICAgICAgICAgICAgICAnKVswXTsKICAgICAgICAgICAgICAgIHBvcHVwXzk3MTBmNDdhNjZjMjQ0YmE5MTA4NjM0MmUyMTUxNjM4LnNldENvbnRlbnQoaHRtbF8yODJlYjJmN2QzMGM0ODY3YTRiNDI0MGZiNmU4NDhkOCk7CiAgICAgICAgICAgIAoKICAgICAgICAgICAgbWFya2VyXzViNzk1NDdjNDlhZTRiNGU4ZGQwOWY1Y2FhZGNhYWUxLmJpbmRQb3B1cChwb3B1cF85NzEwZjQ3YTY2YzI0NGJhOTEwODYzNDJlMjE1MTYzOCk7CgogICAgICAgICAgICAKICAgICAgICAKICAgICAgICAKICAgICAgICAgICAgCgogICAgICAgICAgICB2YXIgbWFya2VyXzAzMjQzZTA0ZjM1NzQ2NmNhNzc0NTgyMWM2NDA2OTM3ID0gTC5tYXJrZXIoCiAgICAgICAgICAgICAgICBbMjUuMDYwMDQwNzU0MywxMjEuNTQ3NzA3Njk0XSwKICAgICAgICAgICAgICAgIHsKICAgICAgICAgICAgICAgICAgICBpY29uOiBuZXcgTC5JY29uLkRlZmF1bHQoKQogICAgICAgICAgICAgICAgICAgIH0KICAgICAgICAgICAgICAgICkKICAgICAgICAgICAgICAgIC5hZGRUbyhtYXBfNGFmYzMxNWVmZGE4NDRlNjk5MThhNWRjMzQ0ZmNjZTUpOwogICAgICAgICAgICAKICAgICAgICAKICAgICAgICAgICAgCiAgICAgICAgICAgIHZhciBwb3B1cF9kNzQyN2FjZjZlMjE0ODI3OGY2MmM3Yzk4MzNhMjhiNSA9IEwucG9wdXAoe21heFdpZHRoOiAnMzAwJ30pOwoKICAgICAgICAgICAgCiAgICAgICAgICAgICAgICB2YXIgaHRtbF83OWFkZDMyNTYxMTI0YWJmYTk0MTYyMDYyZWUxZmQ4MSA9ICQoJyAgICAgICAgIDxkaXYgaWQ9Imh0bWxfNzlhZGQzMjU2MTEyNGFiZmE5NDE2MjA2MmVlMWZkODEiICAgICAgICAgICAgICAgICBzdHlsZT0id2lkdGg6IDEwMC4wJTsgaGVpZ2h0OiAxMDAuMCU7Ij4gICAgICAgICAgICAgICAgIDgy5bm0PC9kaXY+ICAgICAgICAgICAgICAgICAnKVswXTsKICAgICAgICAgICAgICAgIHBvcHVwX2Q3NDI3YWNmNmUyMTQ4Mjc4ZjYyYzdjOTgzM2EyOGI1LnNldENvbnRlbnQoaHRtbF83OWFkZDMyNTYxMTI0YWJmYTk0MTYyMDYyZWUxZmQ4MSk7CiAgICAgICAgICAgIAoKICAgICAgICAgICAgbWFya2VyXzAzMjQzZTA0ZjM1NzQ2NmNhNzc0NTgyMWM2NDA2OTM3LmJpbmRQb3B1cChwb3B1cF9kNzQyN2FjZjZlMjE0ODI3OGY2MmM3Yzk4MzNhMjhiNSk7CgogICAgICAgICAgICAKICAgICAgICAKICAgICAgICAKICAgICAgICAgICAgCgogICAgICAgICAgICB2YXIgbWFya2VyX2ZmYjBmOTMxNzllYjRjMTc4MWE4MDIyNjFkZjFjNzE3ID0gTC5tYXJrZXIoCiAgICAgICAgICAgICAgICBbMjUuMDYwMTkzNjE0NywxMjEuNTQ3ODIxNzIxXSwKICAgICAgICAgICAgICAgIHsKICAgICAgICAgICAgICAgICAgICBpY29uOiBuZXcgTC5JY29uLkRlZmF1bHQoKQogICAgICAgICAgICAgICAgICAgIH0KICAgICAgICAgICAgICAgICkKICAgICAgICAgICAgICAgIC5hZGRUbyhtYXBfNGFmYzMxNWVmZGE4NDRlNjk5MThhNWRjMzQ0ZmNjZTUpOwogICAgICAgICAgICAKICAgICAgICAKICAgICAgICAgICAgCiAgICAgICAgICAgIHZhciBwb3B1cF9iZjdmYmRjNjY5ZTg0OGVjYTU1ZDMxNTExNmJhZjliYSA9IEwucG9wdXAoe21heFdpZHRoOiAnMzAwJ30pOwoKICAgICAgICAgICAgCiAgICAgICAgICAgICAgICB2YXIgaHRtbF8wYTZiYWYwODBmZWQ0YzQ4YmEwOWMwMzdlODg4ZWFjNyA9ICQoJyAgICAgICAgIDxkaXYgaWQ9Imh0bWxfMGE2YmFmMDgwZmVkNGM0OGJhMDljMDM3ZTg4OGVhYzciICAgICAgICAgICAgICAgICBzdHlsZT0id2lkdGg6IDEwMC4wJTsgaGVpZ2h0OiAxMDAuMCU7Ij4gICAgICAgICAgICAgICAgIDgz5bm0PC9kaXY+ICAgICAgICAgICAgICAgICAnKVswXTsKICAgICAgICAgICAgICAgIHBvcHVwX2JmN2ZiZGM2NjllODQ4ZWNhNTVkMzE1MTE2YmFmOWJhLnNldENvbnRlbnQoaHRtbF8wYTZiYWYwODBmZWQ0YzQ4YmEwOWMwMzdlODg4ZWFjNyk7CiAgICAgICAgICAgIAoKICAgICAgICAgICAgbWFya2VyX2ZmYjBmOTMxNzllYjRjMTc4MWE4MDIyNjFkZjFjNzE3LmJpbmRQb3B1cChwb3B1cF9iZjdmYmRjNjY5ZTg0OGVjYTU1ZDMxNTExNmJhZjliYSk7CgogICAgICAgICAgICAKICAgICAgICAKICAgICAgICAKICAgICAgICAgICAgCgogICAgICAgICAgICB2YXIgbWFya2VyXzlkMjliNWRjZDI3ZTQyNGZhZTliYTE4M2NkMmQ3ZTllID0gTC5tYXJrZXIoCiAgICAgICAgICAgICAgICBbMjUuMDYwMjc4ODM5OCwxMjEuNTQ4MDk5OTc5XSwKICAgICAgICAgICAgICAgIHsKICAgICAgICAgICAgICAgICAgICBpY29uOiBuZXcgTC5JY29uLkRlZmF1bHQoKQogICAgICAgICAgICAgICAgICAgIH0KICAgICAgICAgICAgICAgICkKICAgICAgICAgICAgICAgIC5hZGRUbyhtYXBfNGFmYzMxNWVmZGE4NDRlNjk5MThhNWRjMzQ0ZmNjZTUpOwogICAgICAgICAgICAKICAgICAgICAKICAgICAgICAgICAgCiAgICAgICAgICAgIHZhciBwb3B1cF9jN2M3ZWRiYTY3ZWE0MWM0YjQ5ZmU0YzU5ZDc1ZTZlOCA9IEwucG9wdXAoe21heFdpZHRoOiAnMzAwJ30pOwoKICAgICAgICAgICAgCiAgICAgICAgICAgICAgICB2YXIgaHRtbF9jOWJjNzEwZDQzODM0YWE2OTY5ZDM0Y2MwMGNiNWJkMSA9ICQoJyAgICAgICAgIDxkaXYgaWQ9Imh0bWxfYzliYzcxMGQ0MzgzNGFhNjk2OWQzNGNjMDBjYjViZDEiICAgICAgICAgICAgICAgICBzdHlsZT0id2lkdGg6IDEwMC4wJTsgaGVpZ2h0OiAxMDAuMCU7Ij4gICAgICAgICAgICAgICAgIDg05bm0PC9kaXY+ICAgICAgICAgICAgICAgICAnKVswXTsKICAgICAgICAgICAgICAgIHBvcHVwX2M3YzdlZGJhNjdlYTQxYzRiNDlmZTRjNTlkNzVlNmU4LnNldENvbnRlbnQoaHRtbF9jOWJjNzEwZDQzODM0YWE2OTY5ZDM0Y2MwMGNiNWJkMSk7CiAgICAgICAgICAgIAoKICAgICAgICAgICAgbWFya2VyXzlkMjliNWRjZDI3ZTQyNGZhZTliYTE4M2NkMmQ3ZTllLmJpbmRQb3B1cChwb3B1cF9jN2M3ZWRiYTY3ZWE0MWM0YjQ5ZmU0YzU5ZDc1ZTZlOCk7CgogICAgICAgICAgICAKICAgICAgICAKICAgICAgICAKICAgICAgICAgICAgCgogICAgICAgICAgICB2YXIgbWFya2VyX2FlNmQ4MjQ0OWQ1ZDQ0MzliYmNmYzcyNTA2N2RhNDg1ID0gTC5tYXJrZXIoCiAgICAgICAgICAgICAgICBbMjUuMDYwNDA2Mzk4NiwxMjEuNTQ4MzMwMjgzXSwKICAgICAgICAgICAgICAgIHsKICAgICAgICAgICAgICAgICAgICBpY29uOiBuZXcgTC5JY29uLkRlZmF1bHQoKQogICAgICAgICAgICAgICAgICAgIH0KICAgICAgICAgICAgICAgICkKICAgICAgICAgICAgICAgIC5hZGRUbyhtYXBfNGFmYzMxNWVmZGE4NDRlNjk5MThhNWRjMzQ0ZmNjZTUpOwogICAgICAgICAgICAKICAgICAgICAKICAgICAgICAgICAgCiAgICAgICAgICAgIHZhciBwb3B1cF9kNjMyNWZiZGE0NmU0Y2RjYmYxYWExYmIyZDI5NWE4ZiA9IEwucG9wdXAoe21heFdpZHRoOiAnMzAwJ30pOwoKICAgICAgICAgICAgCiAgICAgICAgICAgICAgICB2YXIgaHRtbF84ZDJiYWUwZDA3NmY0M2Q2YmQ2NmEzODc0MTc5ZWViZCA9ICQoJyAgICAgICAgIDxkaXYgaWQ9Imh0bWxfOGQyYmFlMGQwNzZmNDNkNmJkNjZhMzg3NDE3OWVlYmQiICAgICAgICAgICAgICAgICBzdHlsZT0id2lkdGg6IDEwMC4wJTsgaGVpZ2h0OiAxMDAuMCU7Ij4gICAgICAgICAgICAgICAgIDg15bm0PC9kaXY+ICAgICAgICAgICAgICAgICAnKVswXTsKICAgICAgICAgICAgICAgIHBvcHVwX2Q2MzI1ZmJkYTQ2ZTRjZGNiZjFhYTFiYjJkMjk1YThmLnNldENvbnRlbnQoaHRtbF84ZDJiYWUwZDA3NmY0M2Q2YmQ2NmEzODc0MTc5ZWViZCk7CiAgICAgICAgICAgIAoKICAgICAgICAgICAgbWFya2VyX2FlNmQ4MjQ0OWQ1ZDQ0MzliYmNmYzcyNTA2N2RhNDg1LmJpbmRQb3B1cChwb3B1cF9kNjMyNWZiZGE0NmU0Y2RjYmYxYWExYmIyZDI5NWE4Zik7CgogICAgICAgICAgICAKICAgICAgICAKICAgICAgICAKICAgICAgICAgICAgCgogICAgICAgICAgICB2YXIgbWFya2VyX2M5ODRiOTU2YTk3YTQzZjk5N2U3M2FhYzQwMjdmMGIyID0gTC5tYXJrZXIoCiAgICAgICAgICAgICAgICBbMjUuMDYwMzc5ODM2MywxMjEuNTQ4NTM3MjU0XSwKICAgICAgICAgICAgICAgIHsKICAgICAgICAgICAgICAgICAgICBpY29uOiBuZXcgTC5JY29uLkRlZmF1bHQoKQogICAgICAgICAgICAgICAgICAgIH0KICAgICAgICAgICAgICAgICkKICAgICAgICAgICAgICAgIC5hZGRUbyhtYXBfNGFmYzMxNWVmZGE4NDRlNjk5MThhNWRjMzQ0ZmNjZTUpOwogICAgICAgICAgICAKICAgICAgICAKICAgICAgICAgICAgCiAgICAgICAgICAgIHZhciBwb3B1cF82MDU1NDc0ZjA2YWE0MjY3YjI4ZTg1NDZmODQzYWI1NiA9IEwucG9wdXAoe21heFdpZHRoOiAnMzAwJ30pOwoKICAgICAgICAgICAgCiAgICAgICAgICAgICAgICB2YXIgaHRtbF9hMzBkNTY3ZmIzYmQ0OTcxYWYyMmQ3ODIyNzlkNWI1MiA9ICQoJyAgICAgICAgIDxkaXYgaWQ9Imh0bWxfYTMwZDU2N2ZiM2JkNDk3MWFmMjJkNzgyMjc5ZDViNTIiICAgICAgICAgICAgICAgICBzdHlsZT0id2lkdGg6IDEwMC4wJTsgaGVpZ2h0OiAxMDAuMCU7Ij4gICAgICAgICAgICAgICAgIDg25bm0PC9kaXY+ICAgICAgICAgICAgICAgICAnKVswXTsKICAgICAgICAgICAgICAgIHBvcHVwXzYwNTU0NzRmMDZhYTQyNjdiMjhlODU0NmY4NDNhYjU2LnNldENvbnRlbnQoaHRtbF9hMzBkNTY3ZmIzYmQ0OTcxYWYyMmQ3ODIyNzlkNWI1Mik7CiAgICAgICAgICAgIAoKICAgICAgICAgICAgbWFya2VyX2M5ODRiOTU2YTk3YTQzZjk5N2U3M2FhYzQwMjdmMGIyLmJpbmRQb3B1cChwb3B1cF82MDU1NDc0ZjA2YWE0MjY3YjI4ZTg1NDZmODQzYWI1Nik7CgogICAgICAgICAgICAKICAgICAgICAKICAgICAgICAKICAgICAgICAgICAgCgogICAgICAgICAgICB2YXIgbWFya2VyXzcxMjExZmNiYzgxMDRlNGJiY2QyYTZlMzRmNGI5ZDBkID0gTC5tYXJrZXIoCiAgICAgICAgICAgICAgICBbMjUuMDYwMzAyMzkyMiwxMjEuNTQ4Njg5ODk4XSwKICAgICAgICAgICAgICAgIHsKICAgICAgICAgICAgICAgICAgICBpY29uOiBuZXcgTC5JY29uLkRlZmF1bHQoKQogICAgICAgICAgICAgICAgICAgIH0KICAgICAgICAgICAgICAgICkKICAgICAgICAgICAgICAgIC5hZGRUbyhtYXBfNGFmYzMxNWVmZGE4NDRlNjk5MThhNWRjMzQ0ZmNjZTUpOwogICAgICAgICAgICAKICAgICAgICAKICAgICAgICAgICAgCiAgICAgICAgICAgIHZhciBwb3B1cF80MzFlNWNlZGIwMzk0MTNhYjY1YWEyMTFmZmM1NDhkZCA9IEwucG9wdXAoe21heFdpZHRoOiAnMzAwJ30pOwoKICAgICAgICAgICAgCiAgICAgICAgICAgICAgICB2YXIgaHRtbF9iMTUzYTk1NDVjNDM0YWI0YmJkZmRiYTQ5NTkyZjUyYiA9ICQoJyAgICAgICAgIDxkaXYgaWQ9Imh0bWxfYjE1M2E5NTQ1YzQzNGFiNGJiZGZkYmE0OTU5MmY1MmIiICAgICAgICAgICAgICAgICBzdHlsZT0id2lkdGg6IDEwMC4wJTsgaGVpZ2h0OiAxMDAuMCU7Ij4gICAgICAgICAgICAgICAgIDg35bm0PC9kaXY+ICAgICAgICAgICAgICAgICAnKVswXTsKICAgICAgICAgICAgICAgIHBvcHVwXzQzMWU1Y2VkYjAzOTQxM2FiNjVhYTIxMWZmYzU0OGRkLnNldENvbnRlbnQoaHRtbF9iMTUzYTk1NDVjNDM0YWI0YmJkZmRiYTQ5NTkyZjUyYik7CiAgICAgICAgICAgIAoKICAgICAgICAgICAgbWFya2VyXzcxMjExZmNiYzgxMDRlNGJiY2QyYTZlMzRmNGI5ZDBkLmJpbmRQb3B1cChwb3B1cF80MzFlNWNlZGIwMzk0MTNhYjY1YWEyMTFmZmM1NDhkZCk7CgogICAgICAgICAgICAKICAgICAgICAKICAgICAgICAKICAgICAgICAgICAgCgogICAgICAgICAgICB2YXIgbWFya2VyXzQyM2YzZTc4Mzg1OTRiODc4ZDQ3MDI5NmYwNWU2NjE2ID0gTC5tYXJrZXIoCiAgICAgICAgICAgICAgICBbMjUuMDYwMjYwODkxLDEyMS41NDg4Nzc2MjVdLAogICAgICAgICAgICAgICAgewogICAgICAgICAgICAgICAgICAgIGljb246IG5ldyBMLkljb24uRGVmYXVsdCgpCiAgICAgICAgICAgICAgICAgICAgfQogICAgICAgICAgICAgICAgKQogICAgICAgICAgICAgICAgLmFkZFRvKG1hcF80YWZjMzE1ZWZkYTg0NGU2OTkxOGE1ZGMzNDRmY2NlNSk7CiAgICAgICAgICAgIAogICAgICAgIAogICAgICAgICAgICAKICAgICAgICAgICAgdmFyIHBvcHVwXzE4NGYxNTE5Y2JkYjQ0ODk4ZWNhN2MyZDY4OWNiZTRjID0gTC5wb3B1cCh7bWF4V2lkdGg6ICczMDAnfSk7CgogICAgICAgICAgICAKICAgICAgICAgICAgICAgIHZhciBodG1sX2RmOTVjZDQxN2VjOTQwYzBiYjhhYWFiZTNkMTAzYTI5ID0gJCgnICAgICAgICAgPGRpdiBpZD0iaHRtbF9kZjk1Y2Q0MTdlYzk0MGMwYmI4YWFhYmUzZDEwM2EyOSIgICAgICAgICAgICAgICAgIHN0eWxlPSJ3aWR0aDogMTAwLjAlOyBoZWlnaHQ6IDEwMC4wJTsiPiAgICAgICAgICAgICAgICAgODjlubQ8L2Rpdj4gICAgICAgICAgICAgICAgICcpWzBdOwogICAgICAgICAgICAgICAgcG9wdXBfMTg0ZjE1MTljYmRiNDQ4OThlY2E3YzJkNjg5Y2JlNGMuc2V0Q29udGVudChodG1sX2RmOTVjZDQxN2VjOTQwYzBiYjhhYWFiZTNkMTAzYTI5KTsKICAgICAgICAgICAgCgogICAgICAgICAgICBtYXJrZXJfNDIzZjNlNzgzODU5NGI4NzhkNDcwMjk2ZjA1ZTY2MTYuYmluZFBvcHVwKHBvcHVwXzE4NGYxNTE5Y2JkYjQ0ODk4ZWNhN2MyZDY4OWNiZTRjKTsKCiAgICAgICAgICAgIAogICAgICAgIAogICAgICAgIAogICAgICAgICAgICAKCiAgICAgICAgICAgIHZhciBtYXJrZXJfNjlmN2FjNWI1Y2YwNDZmMDk3NDRkMDg0NjE0YTFlZWIgPSBMLm1hcmtlcigKICAgICAgICAgICAgICAgIFsyNS4wNjAyNTc5NzAzLDEyMS41NDkwMjk0MzRdLAogICAgICAgICAgICAgICAgewogICAgICAgICAgICAgICAgICAgIGljb246IG5ldyBMLkljb24uRGVmYXVsdCgpCiAgICAgICAgICAgICAgICAgICAgfQogICAgICAgICAgICAgICAgKQogICAgICAgICAgICAgICAgLmFkZFRvKG1hcF80YWZjMzE1ZWZkYTg0NGU2OTkxOGE1ZGMzNDRmY2NlNSk7CiAgICAgICAgICAgIAogICAgICAgIAogICAgICAgICAgICAKICAgICAgICAgICAgdmFyIHBvcHVwXzMyYzUyMzg5YmM5ZDQ1NmVhMTdkMzFjNTVhNTliM2MyID0gTC5wb3B1cCh7bWF4V2lkdGg6ICczMDAnfSk7CgogICAgICAgICAgICAKICAgICAgICAgICAgICAgIHZhciBodG1sXzVlMDcyNWFlNmM5NDRmNjE5YzJkYjVhM2E4MDRiMDIxID0gJCgnICAgICAgICAgPGRpdiBpZD0iaHRtbF81ZTA3MjVhZTZjOTQ0ZjYxOWMyZGI1YTNhODA0YjAyMSIgICAgICAgICAgICAgICAgIHN0eWxlPSJ3aWR0aDogMTAwLjAlOyBoZWlnaHQ6IDEwMC4wJTsiPiAgICAgICAgICAgICAgICAgODnlubQ8L2Rpdj4gICAgICAgICAgICAgICAgICcpWzBdOwogICAgICAgICAgICAgICAgcG9wdXBfMzJjNTIzODliYzlkNDU2ZWExN2QzMWM1NWE1OWIzYzIuc2V0Q29udGVudChodG1sXzVlMDcyNWFlNmM5NDRmNjE5YzJkYjVhM2E4MDRiMDIxKTsKICAgICAgICAgICAgCgogICAgICAgICAgICBtYXJrZXJfNjlmN2FjNWI1Y2YwNDZmMDk3NDRkMDg0NjE0YTFlZWIuYmluZFBvcHVwKHBvcHVwXzMyYzUyMzg5YmM5ZDQ1NmVhMTdkMzFjNTVhNTliM2MyKTsKCiAgICAgICAgICAgIAogICAgICAgIAogICAgICAgIAogICAgICAgICAgICAKCiAgICAgICAgICAgIHZhciBtYXJrZXJfMjQ2NjM1OTNiY2Y4NDYzMDkwMTJhNThiYmQ1YjkxZmEgPSBMLm1hcmtlcigKICAgICAgICAgICAgICAgIFsyNS4wNjAyNjU4MDgyLDEyMS41NDkxMTEyOTRdLAogICAgICAgICAgICAgICAgewogICAgICAgICAgICAgICAgICAgIGljb246IG5ldyBMLkljb24uRGVmYXVsdCgpCiAgICAgICAgICAgICAgICAgICAgfQogICAgICAgICAgICAgICAgKQogICAgICAgICAgICAgICAgLmFkZFRvKG1hcF80YWZjMzE1ZWZkYTg0NGU2OTkxOGE1ZGMzNDRmY2NlNSk7CiAgICAgICAgICAgIAogICAgICAgIAogICAgICAgICAgICAKICAgICAgICAgICAgdmFyIHBvcHVwXzRjMzJiOWRhYWQ1OTQ3NjM5MTVlMGIwZTdlNmJhZjliID0gTC5wb3B1cCh7bWF4V2lkdGg6ICczMDAnfSk7CgogICAgICAgICAgICAKICAgICAgICAgICAgICAgIHZhciBodG1sXzgyNGU5NDdlODBmYzRlMzA4NGUzN2Q3NTVjMjk3MGY2ID0gJCgnICAgICAgICAgPGRpdiBpZD0iaHRtbF84MjRlOTQ3ZTgwZmM0ZTMwODRlMzdkNzU1YzI5NzBmNiIgICAgICAgICAgICAgICAgIHN0eWxlPSJ3aWR0aDogMTAwLjAlOyBoZWlnaHQ6IDEwMC4wJTsiPiAgICAgICAgICAgICAgICAgOTDlubQ8L2Rpdj4gICAgICAgICAgICAgICAgICcpWzBdOwogICAgICAgICAgICAgICAgcG9wdXBfNGMzMmI5ZGFhZDU5NDc2MzkxNWUwYjBlN2U2YmFmOWIuc2V0Q29udGVudChodG1sXzgyNGU5NDdlODBmYzRlMzA4NGUzN2Q3NTVjMjk3MGY2KTsKICAgICAgICAgICAgCgogICAgICAgICAgICBtYXJrZXJfMjQ2NjM1OTNiY2Y4NDYzMDkwMTJhNThiYmQ1YjkxZmEuYmluZFBvcHVwKHBvcHVwXzRjMzJiOWRhYWQ1OTQ3NjM5MTVlMGIwZTdlNmJhZjliKTsKCiAgICAgICAgICAgIAogICAgICAgIAogICAgICAgIAogICAgICAgICAgICAKCiAgICAgICAgICAgIHZhciBtYXJrZXJfMzExODY2YTczZDQ2NDYyNmE1NDM2NzhmNzRlYmYwNjcgPSBMLm1hcmtlcigKICAgICAgICAgICAgICAgIFsyNS4wNjAyNzEwMzI3LDEyMS41NDkxOTIyMjddLAogICAgICAgICAgICAgICAgewogICAgICAgICAgICAgICAgICAgIGljb246IG5ldyBMLkljb24uRGVmYXVsdCgpCiAgICAgICAgICAgICAgICAgICAgfQogICAgICAgICAgICAgICAgKQogICAgICAgICAgICAgICAgLmFkZFRvKG1hcF80YWZjMzE1ZWZkYTg0NGU2OTkxOGE1ZGMzNDRmY2NlNSk7CiAgICAgICAgICAgIAogICAgICAgIAogICAgICAgICAgICAKICAgICAgICAgICAgdmFyIHBvcHVwXzliNDcxYTFkMTM0ZTQwYWI5Yzk5MTZjZTM2ZWEyN2U1ID0gTC5wb3B1cCh7bWF4V2lkdGg6ICczMDAnfSk7CgogICAgICAgICAgICAKICAgICAgICAgICAgICAgIHZhciBodG1sX2YzOGFhNGYyMGQ1MDRkYmE5OTVmYzIyZDE5NTYzYTAxID0gJCgnICAgICAgICAgPGRpdiBpZD0iaHRtbF9mMzhhYTRmMjBkNTA0ZGJhOTk1ZmMyMmQxOTU2M2EwMSIgICAgICAgICAgICAgICAgIHN0eWxlPSJ3aWR0aDogMTAwLjAlOyBoZWlnaHQ6IDEwMC4wJTsiPiAgICAgICAgICAgICAgICAgOTHlubQ8L2Rpdj4gICAgICAgICAgICAgICAgICcpWzBdOwogICAgICAgICAgICAgICAgcG9wdXBfOWI0NzFhMWQxMzRlNDBhYjljOTkxNmNlMzZlYTI3ZTUuc2V0Q29udGVudChodG1sX2YzOGFhNGYyMGQ1MDRkYmE5OTVmYzIyZDE5NTYzYTAxKTsKICAgICAgICAgICAgCgogICAgICAgICAgICBtYXJrZXJfMzExODY2YTczZDQ2NDYyNmE1NDM2NzhmNzRlYmYwNjcuYmluZFBvcHVwKHBvcHVwXzliNDcxYTFkMTM0ZTQwYWI5Yzk5MTZjZTM2ZWEyN2U1KTsKCiAgICAgICAgICAgIAogICAgICAgIAogICAgICAgIAogICAgICAgICAgICAKCiAgICAgICAgICAgIHZhciBtYXJrZXJfODc3YzVmODJmNDU0NDcxMjk0YmUyNDYyNmU4ZDZmMDIgPSBMLm1hcmtlcigKICAgICAgICAgICAgICAgIFsyNS4wNjAzNTA3NjQ3LDEyMS41NDkyODk5NzddLAogICAgICAgICAgICAgICAgewogICAgICAgICAgICAgICAgICAgIGljb246IG5ldyBMLkljb24uRGVmYXVsdCgpCiAgICAgICAgICAgICAgICAgICAgfQogICAgICAgICAgICAgICAgKQogICAgICAgICAgICAgICAgLmFkZFRvKG1hcF80YWZjMzE1ZWZkYTg0NGU2OTkxOGE1ZGMzNDRmY2NlNSk7CiAgICAgICAgICAgIAogICAgICAgIAogICAgICAgICAgICAKICAgICAgICAgICAgdmFyIHBvcHVwXzk4NzlkMzQ5ZTIwMDQ1ZTFhYTY1NDU0OWYwNjE1OTc2ID0gTC5wb3B1cCh7bWF4V2lkdGg6ICczMDAnfSk7CgogICAgICAgICAgICAKICAgICAgICAgICAgICAgIHZhciBodG1sX2RhNTliNmU2MDcxZjRkMTI5NTdkNTNmYjIyN2E0MTI0ID0gJCgnICAgICAgICAgPGRpdiBpZD0iaHRtbF9kYTU5YjZlNjA3MWY0ZDEyOTU3ZDUzZmIyMjdhNDEyNCIgICAgICAgICAgICAgICAgIHN0eWxlPSJ3aWR0aDogMTAwLjAlOyBoZWlnaHQ6IDEwMC4wJTsiPiAgICAgICAgICAgICAgICAgOTLlubQ8L2Rpdj4gICAgICAgICAgICAgICAgICcpWzBdOwogICAgICAgICAgICAgICAgcG9wdXBfOTg3OWQzNDllMjAwNDVlMWFhNjU0NTQ5ZjA2MTU5NzYuc2V0Q29udGVudChodG1sX2RhNTliNmU2MDcxZjRkMTI5NTdkNTNmYjIyN2E0MTI0KTsKICAgICAgICAgICAgCgogICAgICAgICAgICBtYXJrZXJfODc3YzVmODJmNDU0NDcxMjk0YmUyNDYyNmU4ZDZmMDIuYmluZFBvcHVwKHBvcHVwXzk4NzlkMzQ5ZTIwMDQ1ZTFhYTY1NDU0OWYwNjE1OTc2KTsKCiAgICAgICAgICAgIAogICAgICAgIAogICAgICAgIAogICAgICAgICAgICAKCiAgICAgICAgICAgIHZhciBtYXJrZXJfZDkxN2Q1ZTljOGNjNDkxZWI2MDc5Mzc3OTcyNzkxMWMgPSBMLm1hcmtlcigKICAgICAgICAgICAgICAgIFsyNS4wNjAzODcyMDUzLDEyMS41NDkzOTA5MThdLAogICAgICAgICAgICAgICAgewogICAgICAgICAgICAgICAgICAgIGljb246IG5ldyBMLkljb24uRGVmYXVsdCgpCiAgICAgICAgICAgICAgICAgICAgfQogICAgICAgICAgICAgICAgKQogICAgICAgICAgICAgICAgLmFkZFRvKG1hcF80YWZjMzE1ZWZkYTg0NGU2OTkxOGE1ZGMzNDRmY2NlNSk7CiAgICAgICAgICAgIAogICAgICAgIAogICAgICAgICAgICAKICAgICAgICAgICAgdmFyIHBvcHVwX2IwNjA4MWYyYjJhMDRiNWNhYjYyMmIxYTJlMTNkY2M5ID0gTC5wb3B1cCh7bWF4V2lkdGg6ICczMDAnfSk7CgogICAgICAgICAgICAKICAgICAgICAgICAgICAgIHZhciBodG1sX2EzN2UwNmMzYzc4MzQzOTlhNDI2ZWM4MWQyNTQ4MzY5ID0gJCgnICAgICAgICAgPGRpdiBpZD0iaHRtbF9hMzdlMDZjM2M3ODM0Mzk5YTQyNmVjODFkMjU0ODM2OSIgICAgICAgICAgICAgICAgIHN0eWxlPSJ3aWR0aDogMTAwLjAlOyBoZWlnaHQ6IDEwMC4wJTsiPiAgICAgICAgICAgICAgICAgOTPlubQ8L2Rpdj4gICAgICAgICAgICAgICAgICcpWzBdOwogICAgICAgICAgICAgICAgcG9wdXBfYjA2MDgxZjJiMmEwNGI1Y2FiNjIyYjFhMmUxM2RjYzkuc2V0Q29udGVudChodG1sX2EzN2UwNmMzYzc4MzQzOTlhNDI2ZWM4MWQyNTQ4MzY5KTsKICAgICAgICAgICAgCgogICAgICAgICAgICBtYXJrZXJfZDkxN2Q1ZTljOGNjNDkxZWI2MDc5Mzc3OTcyNzkxMWMuYmluZFBvcHVwKHBvcHVwX2IwNjA4MWYyYjJhMDRiNWNhYjYyMmIxYTJlMTNkY2M5KTsKCiAgICAgICAgICAgIAogICAgICAgIAogICAgICAgIAogICAgICAgICAgICAKCiAgICAgICAgICAgIHZhciBtYXJrZXJfNzE4YTAyMWVjNTY0NGIyMmJjMjU4YmNhMzNhNGNjY2MgPSBMLm1hcmtlcigKICAgICAgICAgICAgICAgIFsyNS4wNjAzNjkyODI2LDEyMS41NDk1MDY3MzldLAogICAgICAgICAgICAgICAgewogICAgICAgICAgICAgICAgICAgIGljb246IG5ldyBMLkljb24uRGVmYXVsdCgpCiAgICAgICAgICAgICAgICAgICAgfQogICAgICAgICAgICAgICAgKQogICAgICAgICAgICAgICAgLmFkZFRvKG1hcF80YWZjMzE1ZWZkYTg0NGU2OTkxOGE1ZGMzNDRmY2NlNSk7CiAgICAgICAgICAgIAogICAgICAgIAogICAgICAgICAgICAKICAgICAgICAgICAgdmFyIHBvcHVwXzA2OTc3ZWM2YzI2ZjRiYzM4YWVjOWZiZDQxZDNhZmNiID0gTC5wb3B1cCh7bWF4V2lkdGg6ICczMDAnfSk7CgogICAgICAgICAgICAKICAgICAgICAgICAgICAgIHZhciBodG1sX2M1OTQ1NDkwMjY5NDRlNjk4YmFhOTkxOTY3YWY3YTc2ID0gJCgnICAgICAgICAgPGRpdiBpZD0iaHRtbF9jNTk0NTQ5MDI2OTQ0ZTY5OGJhYTk5MTk2N2FmN2E3NiIgICAgICAgICAgICAgICAgIHN0eWxlPSJ3aWR0aDogMTAwLjAlOyBoZWlnaHQ6IDEwMC4wJTsiPiAgICAgICAgICAgICAgICAgOTTlubQ8L2Rpdj4gICAgICAgICAgICAgICAgICcpWzBdOwogICAgICAgICAgICAgICAgcG9wdXBfMDY5NzdlYzZjMjZmNGJjMzhhZWM5ZmJkNDFkM2FmY2Iuc2V0Q29udGVudChodG1sX2M1OTQ1NDkwMjY5NDRlNjk4YmFhOTkxOTY3YWY3YTc2KTsKICAgICAgICAgICAgCgogICAgICAgICAgICBtYXJrZXJfNzE4YTAyMWVjNTY0NGIyMmJjMjU4YmNhMzNhNGNjY2MuYmluZFBvcHVwKHBvcHVwXzA2OTc3ZWM2YzI2ZjRiYzM4YWVjOWZiZDQxZDNhZmNiKTsKCiAgICAgICAgICAgIAogICAgICAgIAogICAgICAgIAogICAgICAgICAgICAKCiAgICAgICAgICAgIHZhciBtYXJrZXJfNWIyOTVmZDUyZDY3NDFhNThlN2EwYWQ2ODI3MTNjYjkgPSBMLm1hcmtlcigKICAgICAgICAgICAgICAgIFsyNS4wNjAzNTUzOTgxLDEyMS41NDk1MzQ2MzNdLAogICAgICAgICAgICAgICAgewogICAgICAgICAgICAgICAgICAgIGljb246IG5ldyBMLkljb24uRGVmYXVsdCgpCiAgICAgICAgICAgICAgICAgICAgfQogICAgICAgICAgICAgICAgKQogICAgICAgICAgICAgICAgLmFkZFRvKG1hcF80YWZjMzE1ZWZkYTg0NGU2OTkxOGE1ZGMzNDRmY2NlNSk7CiAgICAgICAgICAgIAogICAgICAgIAogICAgICAgICAgICAKICAgICAgICAgICAgdmFyIHBvcHVwX2JiZTlmYTU4ZGZkOTRhODg5YzY4MmYzNGUyMWVkNjNhID0gTC5wb3B1cCh7bWF4V2lkdGg6ICczMDAnfSk7CgogICAgICAgICAgICAKICAgICAgICAgICAgICAgIHZhciBodG1sX2M5ZTVlM2NkYmYxMjQ4MmQ4YmU0YzYzMGUwOWNhODU1ID0gJCgnICAgICAgICAgPGRpdiBpZD0iaHRtbF9jOWU1ZTNjZGJmMTI0ODJkOGJlNGM2MzBlMDljYTg1NSIgICAgICAgICAgICAgICAgIHN0eWxlPSJ3aWR0aDogMTAwLjAlOyBoZWlnaHQ6IDEwMC4wJTsiPiAgICAgICAgICAgICAgICAgOTXlubQ8L2Rpdj4gICAgICAgICAgICAgICAgICcpWzBdOwogICAgICAgICAgICAgICAgcG9wdXBfYmJlOWZhNThkZmQ5NGE4ODljNjgyZjM0ZTIxZWQ2M2Euc2V0Q29udGVudChodG1sX2M5ZTVlM2NkYmYxMjQ4MmQ4YmU0YzYzMGUwOWNhODU1KTsKICAgICAgICAgICAgCgogICAgICAgICAgICBtYXJrZXJfNWIyOTVmZDUyZDY3NDFhNThlN2EwYWQ2ODI3MTNjYjkuYmluZFBvcHVwKHBvcHVwX2JiZTlmYTU4ZGZkOTRhODg5YzY4MmYzNGUyMWVkNjNhKTsKCiAgICAgICAgICAgIAogICAgICAgIAogICAgICAgIAogICAgICAgICAgICAKCiAgICAgICAgICAgIHZhciBtYXJrZXJfMzMxNzA4ZmFkZTdhNGZkYzk5MTBlNWUwNDFlYzNhMjQgPSBMLm1hcmtlcigKICAgICAgICAgICAgICAgIFsyNS4wNjAzNjcwNjAzLDEyMS41NDk1OTI1MzhdLAogICAgICAgICAgICAgICAgewogICAgICAgICAgICAgICAgICAgIGljb246IG5ldyBMLkljb24uRGVmYXVsdCgpCiAgICAgICAgICAgICAgICAgICAgfQogICAgICAgICAgICAgICAgKQogICAgICAgICAgICAgICAgLmFkZFRvKG1hcF80YWZjMzE1ZWZkYTg0NGU2OTkxOGE1ZGMzNDRmY2NlNSk7CiAgICAgICAgICAgIAogICAgICAgIAogICAgICAgICAgICAKICAgICAgICAgICAgdmFyIHBvcHVwXzE0N2Q3YjFlZmYzZTRjY2U4ZTZhZTM1ZmM5NTY4NTNhID0gTC5wb3B1cCh7bWF4V2lkdGg6ICczMDAnfSk7CgogICAgICAgICAgICAKICAgICAgICAgICAgICAgIHZhciBodG1sXzcxNjZiMTM2ZjdiMzQ1YjY5ZTc3YjQxNDI1OGVlY2VhID0gJCgnICAgICAgICAgPGRpdiBpZD0iaHRtbF83MTY2YjEzNmY3YjM0NWI2OWU3N2I0MTQyNThlZWNlYSIgICAgICAgICAgICAgICAgIHN0eWxlPSJ3aWR0aDogMTAwLjAlOyBoZWlnaHQ6IDEwMC4wJTsiPiAgICAgICAgICAgICAgICAgOTblubQ8L2Rpdj4gICAgICAgICAgICAgICAgICcpWzBdOwogICAgICAgICAgICAgICAgcG9wdXBfMTQ3ZDdiMWVmZjNlNGNjZThlNmFlMzVmYzk1Njg1M2Euc2V0Q29udGVudChodG1sXzcxNjZiMTM2ZjdiMzQ1YjY5ZTc3YjQxNDI1OGVlY2VhKTsKICAgICAgICAgICAgCgogICAgICAgICAgICBtYXJrZXJfMzMxNzA4ZmFkZTdhNGZkYzk5MTBlNWUwNDFlYzNhMjQuYmluZFBvcHVwKHBvcHVwXzE0N2Q3YjFlZmYzZTRjY2U4ZTZhZTM1ZmM5NTY4NTNhKTsKCiAgICAgICAgICAgIAogICAgICAgIAogICAgICAgIAogICAgICAgICAgICAKCiAgICAgICAgICAgIHZhciBtYXJrZXJfY2Y3NzBjYzMwOGIwNGM3ZmFkOTg4MzdjNWQ5MGU4NzMgPSBMLm1hcmtlcigKICAgICAgICAgICAgICAgIFsyNS4wNjAzOTc4MTU2LDEyMS41NDk2Njg0NjVdLAogICAgICAgICAgICAgICAgewogICAgICAgICAgICAgICAgICAgIGljb246IG5ldyBMLkljb24uRGVmYXVsdCgpCiAgICAgICAgICAgICAgICAgICAgfQogICAgICAgICAgICAgICAgKQogICAgICAgICAgICAgICAgLmFkZFRvKG1hcF80YWZjMzE1ZWZkYTg0NGU2OTkxOGE1ZGMzNDRmY2NlNSk7CiAgICAgICAgICAgIAogICAgICAgIAogICAgICAgICAgICAKICAgICAgICAgICAgdmFyIHBvcHVwXzUyZmUzM2RhYTQ2MDQzZTRiMGYxZDEyMjUxYTc4ZjM1ID0gTC5wb3B1cCh7bWF4V2lkdGg6ICczMDAnfSk7CgogICAgICAgICAgICAKICAgICAgICAgICAgICAgIHZhciBodG1sX2EyOGUzZTUyMGQ4ZDQ4ZDI4YjBmMTA1NmM4YzA0NzgyID0gJCgnICAgICAgICAgPGRpdiBpZD0iaHRtbF9hMjhlM2U1MjBkOGQ0OGQyOGIwZjEwNTZjOGMwNDc4MiIgICAgICAgICAgICAgICAgIHN0eWxlPSJ3aWR0aDogMTAwLjAlOyBoZWlnaHQ6IDEwMC4wJTsiPiAgICAgICAgICAgICAgICAgOTflubQ8L2Rpdj4gICAgICAgICAgICAgICAgICcpWzBdOwogICAgICAgICAgICAgICAgcG9wdXBfNTJmZTMzZGFhNDYwNDNlNGIwZjFkMTIyNTFhNzhmMzUuc2V0Q29udGVudChodG1sX2EyOGUzZTUyMGQ4ZDQ4ZDI4YjBmMTA1NmM4YzA0NzgyKTsKICAgICAgICAgICAgCgogICAgICAgICAgICBtYXJrZXJfY2Y3NzBjYzMwOGIwNGM3ZmFkOTg4MzdjNWQ5MGU4NzMuYmluZFBvcHVwKHBvcHVwXzUyZmUzM2RhYTQ2MDQzZTRiMGYxZDEyMjUxYTc4ZjM1KTsKCiAgICAgICAgICAgIAogICAgICAgIAogICAgICAgIAogICAgICAgICAgICAKCiAgICAgICAgICAgIHZhciBtYXJrZXJfMmM4MGU0N2Y1NWFjNGRmOWI5OTA5YTMyMjkyM2NiYjQgPSBMLm1hcmtlcigKICAgICAgICAgICAgICAgIFsyNS4wNjA0MDM0Njg0LDEyMS41NDk3MjY5NDJdLAogICAgICAgICAgICAgICAgewogICAgICAgICAgICAgICAgICAgIGljb246IG5ldyBMLkljb24uRGVmYXVsdCgpCiAgICAgICAgICAgICAgICAgICAgfQogICAgICAgICAgICAgICAgKQogICAgICAgICAgICAgICAgLmFkZFRvKG1hcF80YWZjMzE1ZWZkYTg0NGU2OTkxOGE1ZGMzNDRmY2NlNSk7CiAgICAgICAgICAgIAogICAgICAgIAogICAgICAgICAgICAKICAgICAgICAgICAgdmFyIHBvcHVwX2I5ZmE1NGU2ZjZjZjRhY2Y4ZWQzNTUxOWNhOTE5M2Y2ID0gTC5wb3B1cCh7bWF4V2lkdGg6ICczMDAnfSk7CgogICAgICAgICAgICAKICAgICAgICAgICAgICAgIHZhciBodG1sX2NmODU2MjQwNmM4MTQxMGU5NDVjODUzOWVjNDVmZjM2ID0gJCgnICAgICAgICAgPGRpdiBpZD0iaHRtbF9jZjg1NjI0MDZjODE0MTBlOTQ1Yzg1MzllYzQ1ZmYzNiIgICAgICAgICAgICAgICAgIHN0eWxlPSJ3aWR0aDogMTAwLjAlOyBoZWlnaHQ6IDEwMC4wJTsiPiAgICAgICAgICAgICAgICAgOTjlubQ8L2Rpdj4gICAgICAgICAgICAgICAgICcpWzBdOwogICAgICAgICAgICAgICAgcG9wdXBfYjlmYTU0ZTZmNmNmNGFjZjhlZDM1NTE5Y2E5MTkzZjYuc2V0Q29udGVudChodG1sX2NmODU2MjQwNmM4MTQxMGU5NDVjODUzOWVjNDVmZjM2KTsKICAgICAgICAgICAgCgogICAgICAgICAgICBtYXJrZXJfMmM4MGU0N2Y1NWFjNGRmOWI5OTA5YTMyMjkyM2NiYjQuYmluZFBvcHVwKHBvcHVwX2I5ZmE1NGU2ZjZjZjRhY2Y4ZWQzNTUxOWNhOTE5M2Y2KTsKCiAgICAgICAgICAgIAogICAgICAgIAogICAgICAgIAogICAgICAgICAgICAKCiAgICAgICAgICAgIHZhciBtYXJrZXJfYmM3MmE5N2RlMGUxNGFjNzkwNjE3NmFmNThiMmQyZGYgPSBMLm1hcmtlcigKICAgICAgICAgICAgICAgIFsyNS4wNjA0MzAyNjM2LDEyMS41NDk3Mzk5NzJdLAogICAgICAgICAgICAgICAgewogICAgICAgICAgICAgICAgICAgIGljb246IG5ldyBMLkljb24uRGVmYXVsdCgpCiAgICAgICAgICAgICAgICAgICAgfQogICAgICAgICAgICAgICAgKQogICAgICAgICAgICAgICAgLmFkZFRvKG1hcF80YWZjMzE1ZWZkYTg0NGU2OTkxOGE1ZGMzNDRmY2NlNSk7CiAgICAgICAgICAgIAogICAgICAgIAogICAgICAgICAgICAKICAgICAgICAgICAgdmFyIHBvcHVwXzI5OWJjZGNmOTQzMDRiMmI4NDBjM2FhNDVmZGUwOGFhID0gTC5wb3B1cCh7bWF4V2lkdGg6ICczMDAnfSk7CgogICAgICAgICAgICAKICAgICAgICAgICAgICAgIHZhciBodG1sX2QwMTk2NGEwMDA4MTRmMWFiNTlkYjM4Nzg2NTBjNWEzID0gJCgnICAgICAgICAgPGRpdiBpZD0iaHRtbF9kMDE5NjRhMDAwODE0ZjFhYjU5ZGIzODc4NjUwYzVhMyIgICAgICAgICAgICAgICAgIHN0eWxlPSJ3aWR0aDogMTAwLjAlOyBoZWlnaHQ6IDEwMC4wJTsiPiAgICAgICAgICAgICAgICAgOTnlubQ8L2Rpdj4gICAgICAgICAgICAgICAgICcpWzBdOwogICAgICAgICAgICAgICAgcG9wdXBfMjk5YmNkY2Y5NDMwNGIyYjg0MGMzYWE0NWZkZTA4YWEuc2V0Q29udGVudChodG1sX2QwMTk2NGEwMDA4MTRmMWFiNTlkYjM4Nzg2NTBjNWEzKTsKICAgICAgICAgICAgCgogICAgICAgICAgICBtYXJrZXJfYmM3MmE5N2RlMGUxNGFjNzkwNjE3NmFmNThiMmQyZGYuYmluZFBvcHVwKHBvcHVwXzI5OWJjZGNmOTQzMDRiMmI4NDBjM2FhNDVmZGUwOGFhKTsKCiAgICAgICAgICAgIAogICAgICAgIAogICAgICAgIAogICAgICAgICAgICAKCiAgICAgICAgICAgIHZhciBtYXJrZXJfOWQ3NDE2MzJmZjc2NGY3ZmFjZmQ2MDVjMTdlMWM0OTggPSBMLm1hcmtlcigKICAgICAgICAgICAgICAgIFsyNS4wNjA0NDE0NTM0LDEyMS41NDk3ODYxMzldLAogICAgICAgICAgICAgICAgewogICAgICAgICAgICAgICAgICAgIGljb246IG5ldyBMLkljb24uRGVmYXVsdCgpCiAgICAgICAgICAgICAgICAgICAgfQogICAgICAgICAgICAgICAgKQogICAgICAgICAgICAgICAgLmFkZFRvKG1hcF80YWZjMzE1ZWZkYTg0NGU2OTkxOGE1ZGMzNDRmY2NlNSk7CiAgICAgICAgICAgIAogICAgICAgIAogICAgICAgICAgICAKICAgICAgICAgICAgdmFyIHBvcHVwXzNkMzM2MTRjZDNiYzRlM2RhYzk3YWViMjFkMzQyN2NhID0gTC5wb3B1cCh7bWF4V2lkdGg6ICczMDAnfSk7CgogICAgICAgICAgICAKICAgICAgICAgICAgICAgIHZhciBodG1sX2YzYmNlODdmZjdkNDQ3MzNhMjJiZGU2ODNmYWI0NDM4ID0gJCgnICAgICAgICAgPGRpdiBpZD0iaHRtbF9mM2JjZTg3ZmY3ZDQ0NzMzYTIyYmRlNjgzZmFiNDQzOCIgICAgICAgICAgICAgICAgIHN0eWxlPSJ3aWR0aDogMTAwLjAlOyBoZWlnaHQ6IDEwMC4wJTsiPiAgICAgICAgICAgICAgICAgMTAw5bm0PC9kaXY+ICAgICAgICAgICAgICAgICAnKVswXTsKICAgICAgICAgICAgICAgIHBvcHVwXzNkMzM2MTRjZDNiYzRlM2RhYzk3YWViMjFkMzQyN2NhLnNldENvbnRlbnQoaHRtbF9mM2JjZTg3ZmY3ZDQ0NzMzYTIyYmRlNjgzZmFiNDQzOCk7CiAgICAgICAgICAgIAoKICAgICAgICAgICAgbWFya2VyXzlkNzQxNjMyZmY3NjRmN2ZhY2ZkNjA1YzE3ZTFjNDk4LmJpbmRQb3B1cChwb3B1cF8zZDMzNjE0Y2QzYmM0ZTNkYWM5N2FlYjIxZDM0MjdjYSk7CgogICAgICAgICAgICAKICAgICAgICAKICAgICAgICAKICAgICAgICAgICAgCgogICAgICAgICAgICB2YXIgbWFya2VyX2ZlNDlkM2RiMGQzZTRjYmY5OWFjZTczMzY5YjM3MjFiID0gTC5tYXJrZXIoCiAgICAgICAgICAgICAgICBbMjUuMDYwNDYzNDk5NCwxMjEuNTQ5ODQzMDU2XSwKICAgICAgICAgICAgICAgIHsKICAgICAgICAgICAgICAgICAgICBpY29uOiBuZXcgTC5JY29uLkRlZmF1bHQoKQogICAgICAgICAgICAgICAgICAgIH0KICAgICAgICAgICAgICAgICkKICAgICAgICAgICAgICAgIC5hZGRUbyhtYXBfNGFmYzMxNWVmZGE4NDRlNjk5MThhNWRjMzQ0ZmNjZTUpOwogICAgICAgICAgICAKICAgICAgICAKICAgICAgICAgICAgCiAgICAgICAgICAgIHZhciBwb3B1cF8xNzc5M2M5MjhiZmY0YjM4OTcyZTY2NDIwOTM1MjdiMCA9IEwucG9wdXAoe21heFdpZHRoOiAnMzAwJ30pOwoKICAgICAgICAgICAgCiAgICAgICAgICAgICAgICB2YXIgaHRtbF9iYTJmNjNjZGI4ODY0NTljYTFhYzQ2MjljMzU2YjhjZSA9ICQoJyAgICAgICAgIDxkaXYgaWQ9Imh0bWxfYmEyZjYzY2RiODg2NDU5Y2ExYWM0NjI5YzM1NmI4Y2UiICAgICAgICAgICAgICAgICBzdHlsZT0id2lkdGg6IDEwMC4wJTsgaGVpZ2h0OiAxMDAuMCU7Ij4gICAgICAgICAgICAgICAgIDEwMeW5tDwvZGl2PiAgICAgICAgICAgICAgICAgJylbMF07CiAgICAgICAgICAgICAgICBwb3B1cF8xNzc5M2M5MjhiZmY0YjM4OTcyZTY2NDIwOTM1MjdiMC5zZXRDb250ZW50KGh0bWxfYmEyZjYzY2RiODg2NDU5Y2ExYWM0NjI5YzM1NmI4Y2UpOwogICAgICAgICAgICAKCiAgICAgICAgICAgIG1hcmtlcl9mZTQ5ZDNkYjBkM2U0Y2JmOTlhY2U3MzM2OWIzNzIxYi5iaW5kUG9wdXAocG9wdXBfMTc3OTNjOTI4YmZmNGIzODk3MmU2NjQyMDkzNTI3YjApOwoKICAgICAgICAgICAgCiAgICAgICAgCiAgICAgICAgCiAgICAgICAgICAgIAoKICAgICAgICAgICAgdmFyIG1hcmtlcl85NzBmNDQyNjljMjE0M2VhODJiNmE5YWUzMjQyM2QxNyA9IEwubWFya2VyKAogICAgICAgICAgICAgICAgWzI1LjA2MDQ2NDYwOTksMTIxLjU0OTg3Mzc0OV0sCiAgICAgICAgICAgICAgICB7CiAgICAgICAgICAgICAgICAgICAgaWNvbjogbmV3IEwuSWNvbi5EZWZhdWx0KCkKICAgICAgICAgICAgICAgICAgICB9CiAgICAgICAgICAgICAgICApCiAgICAgICAgICAgICAgICAuYWRkVG8obWFwXzRhZmMzMTVlZmRhODQ0ZTY5OTE4YTVkYzM0NGZjY2U1KTsKICAgICAgICAgICAgCiAgICAgICAgCiAgICAgICAgICAgIAogICAgICAgICAgICB2YXIgcG9wdXBfYmJkNjM4NTNhNTljNDdhMzg1MTk3NThjN2YwMmJiYzggPSBMLnBvcHVwKHttYXhXaWR0aDogJzMwMCd9KTsKCiAgICAgICAgICAgIAogICAgICAgICAgICAgICAgdmFyIGh0bWxfYzgyZGI1MmNiNjQxNDhlYWJkZjYyYjQwMDNiN2E5YzUgPSAkKCcgICAgICAgICA8ZGl2IGlkPSJodG1sX2M4MmRiNTJjYjY0MTQ4ZWFiZGY2MmI0MDAzYjdhOWM1IiAgICAgICAgICAgICAgICAgc3R5bGU9IndpZHRoOiAxMDAuMCU7IGhlaWdodDogMTAwLjAlOyI+ICAgICAgICAgICAgICAgICAxMDLlubQ8L2Rpdj4gICAgICAgICAgICAgICAgICcpWzBdOwogICAgICAgICAgICAgICAgcG9wdXBfYmJkNjM4NTNhNTljNDdhMzg1MTk3NThjN2YwMmJiYzguc2V0Q29udGVudChodG1sX2M4MmRiNTJjYjY0MTQ4ZWFiZGY2MmI0MDAzYjdhOWM1KTsKICAgICAgICAgICAgCgogICAgICAgICAgICBtYXJrZXJfOTcwZjQ0MjY5YzIxNDNlYTgyYjZhOWFlMzI0MjNkMTcuYmluZFBvcHVwKHBvcHVwX2JiZDYzODUzYTU5YzQ3YTM4NTE5NzU4YzdmMDJiYmM4KTsKCiAgICAgICAgICAgIAogICAgICAgIAogICAgICAgIAogICAgICAgICAgICAKCiAgICAgICAgICAgIHZhciBtYXJrZXJfMzA4M2E2M2NlMGI5NGUzZjkzOWIxOGE2M2RkNTJjY2IgPSBMLm1hcmtlcigKICAgICAgICAgICAgICAgIFsyNS4wNjA0NjYwNzEzLDEyMS41NDk5MTA4OTJdLAogICAgICAgICAgICAgICAgewogICAgICAgICAgICAgICAgICAgIGljb246IG5ldyBMLkljb24uRGVmYXVsdCgpCiAgICAgICAgICAgICAgICAgICAgfQogICAgICAgICAgICAgICAgKQogICAgICAgICAgICAgICAgLmFkZFRvKG1hcF80YWZjMzE1ZWZkYTg0NGU2OTkxOGE1ZGMzNDRmY2NlNSk7CiAgICAgICAgICAgIAogICAgICAgIAogICAgICAgICAgICAKICAgICAgICAgICAgdmFyIHBvcHVwX2RiNzEwNjAyOTEyMDQ5OWI4ZTFlOTllNzc1MzZiYmI2ID0gTC5wb3B1cCh7bWF4V2lkdGg6ICczMDAnfSk7CgogICAgICAgICAgICAKICAgICAgICAgICAgICAgIHZhciBodG1sXzkyNzkxZmRhNWFhOTRmMjdiMzM5MjFlMWY4YzcwYmYyID0gJCgnICAgICAgICAgPGRpdiBpZD0iaHRtbF85Mjc5MWZkYTVhYTk0ZjI3YjMzOTIxZTFmOGM3MGJmMiIgICAgICAgICAgICAgICAgIHN0eWxlPSJ3aWR0aDogMTAwLjAlOyBoZWlnaHQ6IDEwMC4wJTsiPiAgICAgICAgICAgICAgICAgMTAz5bm0PC9kaXY+ICAgICAgICAgICAgICAgICAnKVswXTsKICAgICAgICAgICAgICAgIHBvcHVwX2RiNzEwNjAyOTEyMDQ5OWI4ZTFlOTllNzc1MzZiYmI2LnNldENvbnRlbnQoaHRtbF85Mjc5MWZkYTVhYTk0ZjI3YjMzOTIxZTFmOGM3MGJmMik7CiAgICAgICAgICAgIAoKICAgICAgICAgICAgbWFya2VyXzMwODNhNjNjZTBiOTRlM2Y5MzliMThhNjNkZDUyY2NiLmJpbmRQb3B1cChwb3B1cF9kYjcxMDYwMjkxMjA0OTliOGUxZTk5ZTc3NTM2YmJiNik7CgogICAgICAgICAgICAKICAgICAgICAKICAgICAgICAKICAgICAgICAKICAgICAgICA8L3NjcmlwdD4KICAgICAgICA=\" style=\"position:absolute;width:100%;height:100%;left:0;top:0;\"></iframe></div></div>"
      ],
      "text/plain": [
       "<folium.folium.Map at 0x7fa8c42f9cf8>"
      ]
     },
     "execution_count": 31,
     "metadata": {},
     "output_type": "execute_result"
    }
   ],
   "source": [
    "地圖"
   ]
  }
 ],
 "metadata": {
  "kernelspec": {
   "display_name": "Python 3",
   "language": "python",
   "name": "python3"
  },
  "language_info": {
   "codemirror_mode": {
    "name": "ipython",
    "version": 3
   },
   "file_extension": ".py",
   "mimetype": "text/x-python",
   "name": "python",
   "nbconvert_exporter": "python",
   "pygments_lexer": "ipython3",
   "version": "3.5.0"
  }
 },
 "nbformat": 4,
 "nbformat_minor": 0
}
